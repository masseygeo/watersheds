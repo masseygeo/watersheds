{
 "cells": [
  {
   "cell_type": "code",
   "execution_count": 1,
   "metadata": {},
   "outputs": [],
   "source": [
    "import pandas as pd\n",
    "import numpy as np\n",
    "from Datasets_Utils import *"
   ]
  },
  {
   "cell_type": "markdown",
   "metadata": {},
   "source": [
    "# Get Stream Gauge Locations"
   ]
  },
  {
   "cell_type": "markdown",
   "metadata": {},
   "source": [
    "## Gage Height / Flood Stage"
   ]
  },
  {
   "cell_type": "code",
   "execution_count": 2,
   "metadata": {
    "id": "5S81nHpnMeNv"
   },
   "outputs": [],
   "source": [
    "# set directory for saving stream gauge location files (.txt and .csv)\n",
    "gage_height_directory = r'stream_gauges'\n",
    "\n",
    "# call custom function for getting location data for flood stage data; return path to .csv file for further analysis\n",
    "gage_height_locations_path = get_stream_gauge_locations(gage_height_directory, data='gage height')"
   ]
  },
  {
   "cell_type": "markdown",
   "metadata": {},
   "source": [
    "### Dataframe of Locations"
   ]
  },
  {
   "cell_type": "code",
   "execution_count": 3,
   "metadata": {
    "colab": {
     "base_uri": "https://localhost:8080/",
     "height": 363
    },
    "executionInfo": {
     "elapsed": 576,
     "status": "ok",
     "timestamp": 1708102075918,
     "user": {
      "displayName": "Matt Massey",
      "userId": "08637701140305391198"
     },
     "user_tz": 300
    },
    "id": "1ZBtxvLvsLqr",
    "outputId": "51966405-5e4e-4dff-fdf3-e8982047f076"
   },
   "outputs": [
    {
     "data": {
      "text/html": [
       "<div>\n",
       "<style scoped>\n",
       "    .dataframe tbody tr th:only-of-type {\n",
       "        vertical-align: middle;\n",
       "    }\n",
       "\n",
       "    .dataframe tbody tr th {\n",
       "        vertical-align: top;\n",
       "    }\n",
       "\n",
       "    .dataframe thead th {\n",
       "        text-align: right;\n",
       "    }\n",
       "</style>\n",
       "<table border=\"1\" class=\"dataframe\">\n",
       "  <thead>\n",
       "    <tr style=\"text-align: right;\">\n",
       "      <th></th>\n",
       "      <th>site_no</th>\n",
       "      <th>station_nm</th>\n",
       "      <th>lat</th>\n",
       "      <th>long</th>\n",
       "      <th>datum</th>\n",
       "      <th>altitude</th>\n",
       "      <th>realtime_data</th>\n",
       "      <th>gage_height</th>\n",
       "    </tr>\n",
       "  </thead>\n",
       "  <tbody>\n",
       "    <tr>\n",
       "      <th>0</th>\n",
       "      <td>03207965</td>\n",
       "      <td>GRAPEVINE CREEK NEAR PHYLLIS, KY</td>\n",
       "      <td>37.432606</td>\n",
       "      <td>-82.353760</td>\n",
       "      <td>NAD83</td>\n",
       "      <td>797.190002</td>\n",
       "      <td>1</td>\n",
       "      <td>1</td>\n",
       "    </tr>\n",
       "    <tr>\n",
       "      <th>1</th>\n",
       "      <td>03208000</td>\n",
       "      <td>LEVISA FORK BELOW FISHTRAP DAM NEAR MILLARD, KY</td>\n",
       "      <td>37.425938</td>\n",
       "      <td>-82.412369</td>\n",
       "      <td>NAD83</td>\n",
       "      <td>599.159973</td>\n",
       "      <td>1</td>\n",
       "      <td>1</td>\n",
       "    </tr>\n",
       "    <tr>\n",
       "      <th>2</th>\n",
       "      <td>03209300</td>\n",
       "      <td>RUSSELL FORK AT ELKHORN CITY, KY</td>\n",
       "      <td>37.303997</td>\n",
       "      <td>-82.342926</td>\n",
       "      <td>NAD83</td>\n",
       "      <td>773.000000</td>\n",
       "      <td>1</td>\n",
       "      <td>1</td>\n",
       "    </tr>\n",
       "    <tr>\n",
       "      <th>3</th>\n",
       "      <td>03209310</td>\n",
       "      <td>ELKHORN LAKE AT JENKINS, KY</td>\n",
       "      <td>37.168354</td>\n",
       "      <td>-82.635063</td>\n",
       "      <td>NAD83</td>\n",
       "      <td>1573.060059</td>\n",
       "      <td>NaN</td>\n",
       "      <td>1</td>\n",
       "    </tr>\n",
       "    <tr>\n",
       "      <th>4</th>\n",
       "      <td>03209325</td>\n",
       "      <td>ELKHORN CREEK AT BURDINE, KY</td>\n",
       "      <td>37.187832</td>\n",
       "      <td>-82.604568</td>\n",
       "      <td>NAD83</td>\n",
       "      <td>NaN</td>\n",
       "      <td>1</td>\n",
       "      <td>1</td>\n",
       "    </tr>\n",
       "    <tr>\n",
       "      <th>5</th>\n",
       "      <td>03209410</td>\n",
       "      <td>RUSSELL FORK AT CEDARVILLE, KY</td>\n",
       "      <td>37.312954</td>\n",
       "      <td>-82.359558</td>\n",
       "      <td>NAD83</td>\n",
       "      <td>743.400024</td>\n",
       "      <td>1</td>\n",
       "      <td>1</td>\n",
       "    </tr>\n",
       "    <tr>\n",
       "      <th>6</th>\n",
       "      <td>03209500</td>\n",
       "      <td>LEVISA FORK AT PIKEVILLE, KY</td>\n",
       "      <td>37.464268</td>\n",
       "      <td>-82.526260</td>\n",
       "      <td>NAD83</td>\n",
       "      <td>631.260010</td>\n",
       "      <td>1</td>\n",
       "      <td>1</td>\n",
       "    </tr>\n",
       "    <tr>\n",
       "      <th>7</th>\n",
       "      <td>03209800</td>\n",
       "      <td>LEVISA FORK AT PRESTONSBURG, KY</td>\n",
       "      <td>37.670929</td>\n",
       "      <td>-82.777107</td>\n",
       "      <td>NAD83</td>\n",
       "      <td>587.380005</td>\n",
       "      <td>1</td>\n",
       "      <td>1</td>\n",
       "    </tr>\n",
       "    <tr>\n",
       "      <th>8</th>\n",
       "      <td>03210000</td>\n",
       "      <td>JOHNS CREEK NEAR META, KY</td>\n",
       "      <td>37.567043</td>\n",
       "      <td>-82.457924</td>\n",
       "      <td>NAD83</td>\n",
       "      <td>714.520020</td>\n",
       "      <td>1</td>\n",
       "      <td>1</td>\n",
       "    </tr>\n",
       "    <tr>\n",
       "      <th>9</th>\n",
       "      <td>03211500</td>\n",
       "      <td>JOHNS CREEK NEAR VAN LEAR, KY</td>\n",
       "      <td>37.743706</td>\n",
       "      <td>-82.724045</td>\n",
       "      <td>NAD83</td>\n",
       "      <td>596.609985</td>\n",
       "      <td>1</td>\n",
       "      <td>1</td>\n",
       "    </tr>\n",
       "  </tbody>\n",
       "</table>\n",
       "</div>"
      ],
      "text/plain": [
       "    site_no                                       station_nm        lat  \\\n",
       "0  03207965                 GRAPEVINE CREEK NEAR PHYLLIS, KY  37.432606   \n",
       "1  03208000  LEVISA FORK BELOW FISHTRAP DAM NEAR MILLARD, KY  37.425938   \n",
       "2  03209300                 RUSSELL FORK AT ELKHORN CITY, KY  37.303997   \n",
       "3  03209310                      ELKHORN LAKE AT JENKINS, KY  37.168354   \n",
       "4  03209325                     ELKHORN CREEK AT BURDINE, KY  37.187832   \n",
       "5  03209410                   RUSSELL FORK AT CEDARVILLE, KY  37.312954   \n",
       "6  03209500                     LEVISA FORK AT PIKEVILLE, KY  37.464268   \n",
       "7  03209800                  LEVISA FORK AT PRESTONSBURG, KY  37.670929   \n",
       "8  03210000                        JOHNS CREEK NEAR META, KY  37.567043   \n",
       "9  03211500                    JOHNS CREEK NEAR VAN LEAR, KY  37.743706   \n",
       "\n",
       "        long  datum     altitude realtime_data  gage_height  \n",
       "0 -82.353760  NAD83   797.190002             1            1  \n",
       "1 -82.412369  NAD83   599.159973             1            1  \n",
       "2 -82.342926  NAD83   773.000000             1            1  \n",
       "3 -82.635063  NAD83  1573.060059           NaN            1  \n",
       "4 -82.604568  NAD83          NaN             1            1  \n",
       "5 -82.359558  NAD83   743.400024             1            1  \n",
       "6 -82.526260  NAD83   631.260010             1            1  \n",
       "7 -82.777107  NAD83   587.380005             1            1  \n",
       "8 -82.457924  NAD83   714.520020             1            1  \n",
       "9 -82.724045  NAD83   596.609985             1            1  "
      ]
     },
     "execution_count": 3,
     "metadata": {},
     "output_type": "execute_result"
    }
   ],
   "source": [
    "# read .csv file of stream gauge locations from custom function\n",
    "df_gage_height_locations = pd.read_csv(gage_height_locations_path)\n",
    "\n",
    "# drop the first row (non-data)\n",
    "df_gage_height_locations.drop(index=0, \n",
    "                              inplace=True)\n",
    "\n",
    "# cast latitude, longitude, and altitude to float values\n",
    "df_gage_height_locations = df_gage_height_locations.astype(dtype={'dec_lat_va':np.float32, \n",
    "                                                                  'dec_long_va':np.float32, \n",
    "                                                                  'alt_va': np.float32})\n",
    "\n",
    "# drop unnecessary columns\n",
    "df_gage_height_locations.drop(columns=['coord_acy_cd', \n",
    "                                       'alt_acy_va', \n",
    "                                       'alt_datum_cd', \n",
    "                                       'huc_cd', \n",
    "                                       'basin_cd'], \n",
    "                              inplace=True)\n",
    "\n",
    "# rename columns\n",
    "df_gage_height_locations.rename(columns={'dec_lat_va':'lat', \n",
    "                                         'dec_long_va':'long', \n",
    "                                         'dec_coord_datum_cd':'datum',\n",
    "                                         'alt_va':'altitude', \n",
    "                                         'rt_bol':'realtime_data'}, \n",
    "                                inplace=True)\n",
    "\n",
    "# reset index\n",
    "df_gage_height_locations.reset_index(drop=True, \n",
    "                                     inplace=True)\n",
    "\n",
    "# display first 10 rows of dataframe\n",
    "df_gage_height_locations.head(10)"
   ]
  },
  {
   "cell_type": "code",
   "execution_count": 4,
   "metadata": {
    "colab": {
     "base_uri": "https://localhost:8080/"
    },
    "executionInfo": {
     "elapsed": 106,
     "status": "ok",
     "timestamp": 1708027316701,
     "user": {
      "displayName": "Matt Massey",
      "userId": "08637701140305391198"
     },
     "user_tz": 300
    },
    "id": "FGeJWmq-VwrK",
    "outputId": "850c8c3f-7752-47a3-ff91-0dec44f7c867"
   },
   "outputs": [
    {
     "name": "stdout",
     "output_type": "stream",
     "text": [
      "<class 'pandas.core.frame.DataFrame'>\n",
      "RangeIndex: 251 entries, 0 to 250\n",
      "Data columns (total 8 columns):\n",
      " #   Column         Non-Null Count  Dtype  \n",
      "---  ------         --------------  -----  \n",
      " 0   site_no        251 non-null    object \n",
      " 1   station_nm     251 non-null    object \n",
      " 2   lat            251 non-null    float32\n",
      " 3   long           251 non-null    float32\n",
      " 4   datum          251 non-null    object \n",
      " 5   altitude       232 non-null    float32\n",
      " 6   realtime_data  245 non-null    object \n",
      " 7   gage_height    251 non-null    int64  \n",
      "dtypes: float32(3), int64(1), object(4)\n",
      "memory usage: 12.9+ KB\n"
     ]
    }
   ],
   "source": [
    "# display dtype and null/non-null counts\n",
    "df_gage_height_locations.info()"
   ]
  },
  {
   "cell_type": "markdown",
   "metadata": {},
   "source": [
    "## Streamflow / Discharge"
   ]
  },
  {
   "cell_type": "code",
   "execution_count": 5,
   "metadata": {
    "id": "P7gTYXJFQlY5"
   },
   "outputs": [],
   "source": [
    "# set directory for saving stream gauge location files (.txt and .csv)\n",
    "streamflow_directory = r'stream_gauges'\n",
    "\n",
    "# call custom function for getting location data for flood stage data; return path to .csv file for further analysis\n",
    "streamflow_locations_path = get_stream_gauge_locations(streamflow_directory, data='streamflow')"
   ]
  },
  {
   "cell_type": "code",
   "execution_count": 6,
   "metadata": {
    "colab": {
     "base_uri": "https://localhost:8080/",
     "height": 363
    },
    "executionInfo": {
     "elapsed": 161,
     "status": "ok",
     "timestamp": 1708102070346,
     "user": {
      "displayName": "Matt Massey",
      "userId": "08637701140305391198"
     },
     "user_tz": 300
    },
    "id": "Xepu8kv863-T",
    "outputId": "95f50579-56a3-4819-aacd-4cd5034eaad8"
   },
   "outputs": [
    {
     "data": {
      "text/html": [
       "<div>\n",
       "<style scoped>\n",
       "    .dataframe tbody tr th:only-of-type {\n",
       "        vertical-align: middle;\n",
       "    }\n",
       "\n",
       "    .dataframe tbody tr th {\n",
       "        vertical-align: top;\n",
       "    }\n",
       "\n",
       "    .dataframe thead th {\n",
       "        text-align: right;\n",
       "    }\n",
       "</style>\n",
       "<table border=\"1\" class=\"dataframe\">\n",
       "  <thead>\n",
       "    <tr style=\"text-align: right;\">\n",
       "      <th></th>\n",
       "      <th>site_no</th>\n",
       "      <th>station_nm</th>\n",
       "      <th>lat</th>\n",
       "      <th>long</th>\n",
       "      <th>datum</th>\n",
       "      <th>altitude</th>\n",
       "      <th>realtime_data</th>\n",
       "      <th>streamflow</th>\n",
       "    </tr>\n",
       "  </thead>\n",
       "  <tbody>\n",
       "    <tr>\n",
       "      <th>0</th>\n",
       "      <td>03207965</td>\n",
       "      <td>GRAPEVINE CREEK NEAR PHYLLIS, KY</td>\n",
       "      <td>37.432606</td>\n",
       "      <td>-82.353760</td>\n",
       "      <td>NAD83</td>\n",
       "      <td>797.190002</td>\n",
       "      <td>1</td>\n",
       "      <td>1</td>\n",
       "    </tr>\n",
       "    <tr>\n",
       "      <th>1</th>\n",
       "      <td>03209410</td>\n",
       "      <td>RUSSELL FORK AT CEDARVILLE, KY</td>\n",
       "      <td>37.312954</td>\n",
       "      <td>-82.359558</td>\n",
       "      <td>NAD83</td>\n",
       "      <td>743.400024</td>\n",
       "      <td>1</td>\n",
       "      <td>1</td>\n",
       "    </tr>\n",
       "    <tr>\n",
       "      <th>2</th>\n",
       "      <td>03209500</td>\n",
       "      <td>LEVISA FORK AT PIKEVILLE, KY</td>\n",
       "      <td>37.464268</td>\n",
       "      <td>-82.526260</td>\n",
       "      <td>NAD83</td>\n",
       "      <td>631.260010</td>\n",
       "      <td>1</td>\n",
       "      <td>1</td>\n",
       "    </tr>\n",
       "    <tr>\n",
       "      <th>3</th>\n",
       "      <td>03209800</td>\n",
       "      <td>LEVISA FORK AT PRESTONSBURG, KY</td>\n",
       "      <td>37.670929</td>\n",
       "      <td>-82.777107</td>\n",
       "      <td>NAD83</td>\n",
       "      <td>587.380005</td>\n",
       "      <td>1</td>\n",
       "      <td>1</td>\n",
       "    </tr>\n",
       "    <tr>\n",
       "      <th>4</th>\n",
       "      <td>03210000</td>\n",
       "      <td>JOHNS CREEK NEAR META, KY</td>\n",
       "      <td>37.567043</td>\n",
       "      <td>-82.457924</td>\n",
       "      <td>NAD83</td>\n",
       "      <td>714.520020</td>\n",
       "      <td>1</td>\n",
       "      <td>1</td>\n",
       "    </tr>\n",
       "    <tr>\n",
       "      <th>5</th>\n",
       "      <td>03212500</td>\n",
       "      <td>LEVISA FORK AT PAINTSVILLE, KY</td>\n",
       "      <td>37.815372</td>\n",
       "      <td>-82.791550</td>\n",
       "      <td>NAD83</td>\n",
       "      <td>566.179993</td>\n",
       "      <td>1</td>\n",
       "      <td>1</td>\n",
       "    </tr>\n",
       "    <tr>\n",
       "      <th>6</th>\n",
       "      <td>03213700</td>\n",
       "      <td>TUG FORK AT WILLIAMSON, WV</td>\n",
       "      <td>37.673157</td>\n",
       "      <td>-82.280144</td>\n",
       "      <td>NAD83</td>\n",
       "      <td>619.909973</td>\n",
       "      <td>1</td>\n",
       "      <td>1</td>\n",
       "    </tr>\n",
       "    <tr>\n",
       "      <th>7</th>\n",
       "      <td>03215410</td>\n",
       "      <td>BLAINE CREEK NEAR BLAINE, KY</td>\n",
       "      <td>38.029533</td>\n",
       "      <td>-82.846832</td>\n",
       "      <td>NAD83</td>\n",
       "      <td>632.460022</td>\n",
       "      <td>1</td>\n",
       "      <td>1</td>\n",
       "    </tr>\n",
       "    <tr>\n",
       "      <th>8</th>\n",
       "      <td>03216070</td>\n",
       "      <td>OHIO RIVER AT IRONTON, OH</td>\n",
       "      <td>38.532055</td>\n",
       "      <td>-82.685944</td>\n",
       "      <td>NAD83</td>\n",
       "      <td>480.410004</td>\n",
       "      <td>1</td>\n",
       "      <td>1</td>\n",
       "    </tr>\n",
       "    <tr>\n",
       "      <th>9</th>\n",
       "      <td>03216500</td>\n",
       "      <td>LITTLE SANDY RIVER AT GRAYSON, KY</td>\n",
       "      <td>38.330082</td>\n",
       "      <td>-82.939339</td>\n",
       "      <td>NAD83</td>\n",
       "      <td>557.030029</td>\n",
       "      <td>1</td>\n",
       "      <td>1</td>\n",
       "    </tr>\n",
       "  </tbody>\n",
       "</table>\n",
       "</div>"
      ],
      "text/plain": [
       "    site_no                         station_nm        lat       long  datum  \\\n",
       "0  03207965   GRAPEVINE CREEK NEAR PHYLLIS, KY  37.432606 -82.353760  NAD83   \n",
       "1  03209410     RUSSELL FORK AT CEDARVILLE, KY  37.312954 -82.359558  NAD83   \n",
       "2  03209500       LEVISA FORK AT PIKEVILLE, KY  37.464268 -82.526260  NAD83   \n",
       "3  03209800    LEVISA FORK AT PRESTONSBURG, KY  37.670929 -82.777107  NAD83   \n",
       "4  03210000          JOHNS CREEK NEAR META, KY  37.567043 -82.457924  NAD83   \n",
       "5  03212500     LEVISA FORK AT PAINTSVILLE, KY  37.815372 -82.791550  NAD83   \n",
       "6  03213700         TUG FORK AT WILLIAMSON, WV  37.673157 -82.280144  NAD83   \n",
       "7  03215410       BLAINE CREEK NEAR BLAINE, KY  38.029533 -82.846832  NAD83   \n",
       "8  03216070          OHIO RIVER AT IRONTON, OH  38.532055 -82.685944  NAD83   \n",
       "9  03216500  LITTLE SANDY RIVER AT GRAYSON, KY  38.330082 -82.939339  NAD83   \n",
       "\n",
       "     altitude realtime_data  streamflow  \n",
       "0  797.190002             1           1  \n",
       "1  743.400024             1           1  \n",
       "2  631.260010             1           1  \n",
       "3  587.380005             1           1  \n",
       "4  714.520020             1           1  \n",
       "5  566.179993             1           1  \n",
       "6  619.909973             1           1  \n",
       "7  632.460022             1           1  \n",
       "8  480.410004             1           1  \n",
       "9  557.030029             1           1  "
      ]
     },
     "execution_count": 6,
     "metadata": {},
     "output_type": "execute_result"
    }
   ],
   "source": [
    "# read in .csv file data & clean dataframe (same process as above)...\n",
    "df_streamflow_locations = pd.read_csv(streamflow_locations_path)\n",
    "\n",
    "df_streamflow_locations.drop(index=0, \n",
    "                             inplace=True)\n",
    "\n",
    "df_streamflow_locations = df_streamflow_locations.astype(dtype={'dec_lat_va':np.float32, \n",
    "                                                                'dec_long_va':np.float32, \n",
    "                                                                'alt_va': np.float32})\n",
    "df_streamflow_locations.drop(columns=['coord_acy_cd',\n",
    "                                      'alt_acy_va',\n",
    "                                      'alt_datum_cd',\n",
    "                                      'huc_cd',\n",
    "                                      'basin_cd'], \n",
    "                             inplace=True)\n",
    "\n",
    "df_streamflow_locations.rename(columns={'dec_lat_va':'lat', \n",
    "                                        'dec_long_va':'long', \n",
    "                                        'dec_coord_datum_cd':'datum', \n",
    "                                        'alt_va':'altitude', \n",
    "                                        'rt_bol':'realtime_data'}, \n",
    "                               inplace=True)\n",
    "\n",
    "df_streamflow_locations.reset_index(drop=True, \n",
    "                                    inplace=True)\n",
    "\n",
    "df_streamflow_locations.head(10)"
   ]
  },
  {
   "cell_type": "code",
   "execution_count": 7,
   "metadata": {
    "colab": {
     "base_uri": "https://localhost:8080/"
    },
    "executionInfo": {
     "elapsed": 128,
     "status": "ok",
     "timestamp": 1708027346453,
     "user": {
      "displayName": "Matt Massey",
      "userId": "08637701140305391198"
     },
     "user_tz": 300
    },
    "id": "en221oNP69xw",
    "outputId": "2fdf70f2-16cd-4946-c869-fe23db2c3f84"
   },
   "outputs": [
    {
     "name": "stdout",
     "output_type": "stream",
     "text": [
      "<class 'pandas.core.frame.DataFrame'>\n",
      "RangeIndex: 228 entries, 0 to 227\n",
      "Data columns (total 8 columns):\n",
      " #   Column         Non-Null Count  Dtype  \n",
      "---  ------         --------------  -----  \n",
      " 0   site_no        228 non-null    object \n",
      " 1   station_nm     228 non-null    object \n",
      " 2   lat            228 non-null    float32\n",
      " 3   long           228 non-null    float32\n",
      " 4   datum          228 non-null    object \n",
      " 5   altitude       193 non-null    float32\n",
      " 6   realtime_data  228 non-null    object \n",
      " 7   streamflow     228 non-null    int64  \n",
      "dtypes: float32(3), int64(1), object(4)\n",
      "memory usage: 11.7+ KB\n"
     ]
    }
   ],
   "source": [
    "# display dtype and null/non-null counts\n",
    "df_streamflow_locations.info()"
   ]
  },
  {
   "cell_type": "markdown",
   "metadata": {
    "id": "r11Urcpqr62H"
   },
   "source": [
    "# Get Stream Gage Data"
   ]
  },
  {
   "cell_type": "markdown",
   "metadata": {},
   "source": [
    "## Gage Height / Flood Stage"
   ]
  },
  {
   "cell_type": "code",
   "execution_count": 9,
   "metadata": {
    "id": "9Jkz_ySM1K8i"
   },
   "outputs": [],
   "source": [
    "# set directory for saving stream gauge data file (.csv)\n",
    "gage_height_data_directory = r'stream_gauges/GageHeight'\n",
    "\n",
    "# iterate through stream gauge id's to get gage height/flood stage measurements\n",
    "for site in df_gage_height_locations['site_no']:\n",
    "    path = get_stream_gage_data(site, gage_height_directory, data='gage height')"
   ]
  },
  {
   "cell_type": "markdown",
   "metadata": {},
   "source": [
    "## Streamflow / Discharge"
   ]
  },
  {
   "cell_type": "code",
   "execution_count": 10,
   "metadata": {},
   "outputs": [],
   "source": [
    "# set directory for saving stream gauge data file (.csv)\n",
    "streamflow_data_directory = r'stream_gauges/Streamflow'\n",
    "\n",
    "# iterate through stream gauge id's to get streamflow/discharge measurements\n",
    "for site in df_streamflow_locations['site_no']:\n",
    "    path = get_stream_gage_data(site, streamflow_data_directory, data='streamflow')"
   ]
  },
  {
   "cell_type": "code",
   "execution_count": null,
   "metadata": {
    "id": "133g-Kdp_cS4"
   },
   "outputs": [],
   "source": []
  }
 ],
 "metadata": {
  "colab": {
   "authorship_tag": "ABX9TyO2J9/+RUsVdtFlOs+MxAUm",
   "mount_file_id": "1a6Xy7vdkL3bxkXf9BucciTSAGLMT_JM0",
   "provenance": []
  },
  "kernelspec": {
   "display_name": "Python 3 (ipykernel)",
   "language": "python",
   "name": "python3"
  },
  "language_info": {
   "codemirror_mode": {
    "name": "ipython",
    "version": 3
   },
   "file_extension": ".py",
   "mimetype": "text/x-python",
   "name": "python",
   "nbconvert_exporter": "python",
   "pygments_lexer": "ipython3",
   "version": "3.12.2"
  }
 },
 "nbformat": 4,
 "nbformat_minor": 4
}
