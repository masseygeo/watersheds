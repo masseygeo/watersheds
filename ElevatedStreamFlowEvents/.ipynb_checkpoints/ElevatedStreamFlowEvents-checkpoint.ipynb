{
 "cells": [
  {
   "cell_type": "code",
   "execution_count": 2,
   "id": "391d6813-0158-49ab-a36f-9bc8142bba96",
   "metadata": {},
   "outputs": [],
   "source": [
    "import pandas as pd\n",
    "import geopandas as gpd\n",
    "import numpy as np\n",
    "import scipy\n",
    "import matplotlib.pyplot as plt\n",
    "import glob"
   ]
  },
  {
   "cell_type": "markdown",
   "id": "cba65849-169e-42db-bd93-d1208f205293",
   "metadata": {},
   "source": [
    "# Gauge Data by HUC10 Watershed"
   ]
  },
  {
   "cell_type": "code",
   "execution_count": 14,
   "id": "35450a5a-6d60-4bf9-a8f1-076016ae409b",
   "metadata": {},
   "outputs": [
    {
     "name": "stdout",
     "output_type": "stream",
     "text": [
      "<class 'pandas.core.frame.DataFrame'>\n",
      "RangeIndex: 275 entries, 0 to 274\n",
      "Data columns (total 15 columns):\n",
      " #   Column          Non-Null Count  Dtype         \n",
      "---  ------          --------------  -----         \n",
      " 0   site_no         275 non-null    string        \n",
      " 1   station_nm      275 non-null    string        \n",
      " 2   lat             275 non-null    float64       \n",
      " 3   long            275 non-null    float64       \n",
      " 4   datum           275 non-null    string        \n",
      " 5   altitude        275 non-null    float64       \n",
      " 6   gh_ind          275 non-null    int64         \n",
      " 7   gh_start        232 non-null    datetime64[ns]\n",
      " 8   gh_end          232 non-null    datetime64[ns]\n",
      " 9   sf_ind          275 non-null    int64         \n",
      " 10  sf_start        215 non-null    datetime64[ns]\n",
      " 11  sf_end          215 non-null    datetime64[ns]\n",
      " 12  huc10           275 non-null    string        \n",
      " 13  huc10_name      275 non-null    string        \n",
      " 14  huc10_areasqkm  275 non-null    float64       \n",
      "dtypes: datetime64[ns](4), float64(4), int64(2), string(5)\n",
      "memory usage: 32.4 KB\n"
     ]
    }
   ],
   "source": [
    "input_gauge_watersheds = r'../Data/stream_gauges/KentuckyStreamGaugeLocations_Watersheds.csv'\n",
    "\n",
    "df_gauges = pd.read_csv(input_gauge_watersheds, \n",
    "                        dtype={'site_no':'string', 'huc10':'string'}, \n",
    "                        parse_dates=['gh_start', 'gh_end', 'sf_start', 'sf_end'])\n",
    "\n",
    "df_gauges.drop(columns=['Field1', 'huc12', 'huc12_name', 'huc12_areasqkm'], inplace=True)\n",
    "\n",
    "df_gauges = df_gauges.astype({'station_nm':'string', 'datum':'string', 'huc10_name':'string'})\n",
    "\n",
    "df_gauges.info()"
   ]
  },
  {
   "cell_type": "code",
   "execution_count": 15,
   "id": "16135638-f794-497b-9770-c2e01cf338d0",
   "metadata": {},
   "outputs": [
    {
     "data": {
      "text/html": [
       "<div>\n",
       "<style scoped>\n",
       "    .dataframe tbody tr th:only-of-type {\n",
       "        vertical-align: middle;\n",
       "    }\n",
       "\n",
       "    .dataframe tbody tr th {\n",
       "        vertical-align: top;\n",
       "    }\n",
       "\n",
       "    .dataframe thead th {\n",
       "        text-align: right;\n",
       "    }\n",
       "</style>\n",
       "<table border=\"1\" class=\"dataframe\">\n",
       "  <thead>\n",
       "    <tr style=\"text-align: right;\">\n",
       "      <th></th>\n",
       "      <th>site_no</th>\n",
       "      <th>station_nm</th>\n",
       "      <th>lat</th>\n",
       "      <th>long</th>\n",
       "      <th>datum</th>\n",
       "      <th>altitude</th>\n",
       "      <th>gh_ind</th>\n",
       "      <th>gh_start</th>\n",
       "      <th>gh_end</th>\n",
       "      <th>sf_ind</th>\n",
       "      <th>sf_start</th>\n",
       "      <th>sf_end</th>\n",
       "      <th>huc10</th>\n",
       "      <th>huc10_name</th>\n",
       "      <th>huc10_areasqkm</th>\n",
       "    </tr>\n",
       "  </thead>\n",
       "  <tbody>\n",
       "    <tr>\n",
       "      <th>0</th>\n",
       "      <td>3207965</td>\n",
       "      <td>GRAPEVINE CREEK NEAR PHYLLIS, KY</td>\n",
       "      <td>37.432606</td>\n",
       "      <td>-82.353760</td>\n",
       "      <td>NAD83</td>\n",
       "      <td>797.19</td>\n",
       "      <td>1</td>\n",
       "      <td>2007-10-01</td>\n",
       "      <td>2024-02-15</td>\n",
       "      <td>1</td>\n",
       "      <td>1989-04-25</td>\n",
       "      <td>2024-02-16</td>\n",
       "      <td>0507020202</td>\n",
       "      <td>Fishtrap Lake-Levisa Fork</td>\n",
       "      <td>418.119995</td>\n",
       "    </tr>\n",
       "    <tr>\n",
       "      <th>1</th>\n",
       "      <td>3208000</td>\n",
       "      <td>LEVISA FORK BELOW FISHTRAP DAM NEAR MILLARD, KY</td>\n",
       "      <td>37.425938</td>\n",
       "      <td>-82.412370</td>\n",
       "      <td>NAD83</td>\n",
       "      <td>599.16</td>\n",
       "      <td>1</td>\n",
       "      <td>2008-07-31</td>\n",
       "      <td>2024-02-15</td>\n",
       "      <td>0</td>\n",
       "      <td>NaT</td>\n",
       "      <td>NaT</td>\n",
       "      <td>0507020202</td>\n",
       "      <td>Fishtrap Lake-Levisa Fork</td>\n",
       "      <td>418.119995</td>\n",
       "    </tr>\n",
       "    <tr>\n",
       "      <th>2</th>\n",
       "      <td>3209300</td>\n",
       "      <td>RUSSELL FORK AT ELKHORN CITY, KY</td>\n",
       "      <td>37.303997</td>\n",
       "      <td>-82.342926</td>\n",
       "      <td>NAD83</td>\n",
       "      <td>773.00</td>\n",
       "      <td>1</td>\n",
       "      <td>2008-10-10</td>\n",
       "      <td>2017-10-03</td>\n",
       "      <td>0</td>\n",
       "      <td>NaT</td>\n",
       "      <td>NaT</td>\n",
       "      <td>0507020207</td>\n",
       "      <td>Russell Fork-Levisa Fork</td>\n",
       "      <td>449.799988</td>\n",
       "    </tr>\n",
       "    <tr>\n",
       "      <th>3</th>\n",
       "      <td>3209310</td>\n",
       "      <td>ELKHORN LAKE AT JENKINS, KY</td>\n",
       "      <td>37.168354</td>\n",
       "      <td>-82.635060</td>\n",
       "      <td>NAD83</td>\n",
       "      <td>1573.06</td>\n",
       "      <td>1</td>\n",
       "      <td>2023-12-07</td>\n",
       "      <td>2024-02-15</td>\n",
       "      <td>0</td>\n",
       "      <td>NaT</td>\n",
       "      <td>NaT</td>\n",
       "      <td>0507020207</td>\n",
       "      <td>Russell Fork-Levisa Fork</td>\n",
       "      <td>449.799988</td>\n",
       "    </tr>\n",
       "    <tr>\n",
       "      <th>4</th>\n",
       "      <td>3209325</td>\n",
       "      <td>ELKHORN CREEK AT BURDINE, KY</td>\n",
       "      <td>37.187830</td>\n",
       "      <td>-82.604570</td>\n",
       "      <td>NAD83</td>\n",
       "      <td>0.00</td>\n",
       "      <td>1</td>\n",
       "      <td>2024-01-31</td>\n",
       "      <td>2024-02-15</td>\n",
       "      <td>0</td>\n",
       "      <td>NaT</td>\n",
       "      <td>NaT</td>\n",
       "      <td>0507020207</td>\n",
       "      <td>Russell Fork-Levisa Fork</td>\n",
       "      <td>449.799988</td>\n",
       "    </tr>\n",
       "  </tbody>\n",
       "</table>\n",
       "</div>"
      ],
      "text/plain": [
       "   site_no                                       station_nm        lat  \\\n",
       "0  3207965                 GRAPEVINE CREEK NEAR PHYLLIS, KY  37.432606   \n",
       "1  3208000  LEVISA FORK BELOW FISHTRAP DAM NEAR MILLARD, KY  37.425938   \n",
       "2  3209300                 RUSSELL FORK AT ELKHORN CITY, KY  37.303997   \n",
       "3  3209310                      ELKHORN LAKE AT JENKINS, KY  37.168354   \n",
       "4  3209325                     ELKHORN CREEK AT BURDINE, KY  37.187830   \n",
       "\n",
       "        long  datum  altitude  gh_ind   gh_start     gh_end  sf_ind  \\\n",
       "0 -82.353760  NAD83    797.19       1 2007-10-01 2024-02-15       1   \n",
       "1 -82.412370  NAD83    599.16       1 2008-07-31 2024-02-15       0   \n",
       "2 -82.342926  NAD83    773.00       1 2008-10-10 2017-10-03       0   \n",
       "3 -82.635060  NAD83   1573.06       1 2023-12-07 2024-02-15       0   \n",
       "4 -82.604570  NAD83      0.00       1 2024-01-31 2024-02-15       0   \n",
       "\n",
       "    sf_start     sf_end       huc10                 huc10_name  huc10_areasqkm  \n",
       "0 1989-04-25 2024-02-16  0507020202  Fishtrap Lake-Levisa Fork      418.119995  \n",
       "1        NaT        NaT  0507020202  Fishtrap Lake-Levisa Fork      418.119995  \n",
       "2        NaT        NaT  0507020207   Russell Fork-Levisa Fork      449.799988  \n",
       "3        NaT        NaT  0507020207   Russell Fork-Levisa Fork      449.799988  \n",
       "4        NaT        NaT  0507020207   Russell Fork-Levisa Fork      449.799988  "
      ]
     },
     "execution_count": 15,
     "metadata": {},
     "output_type": "execute_result"
    }
   ],
   "source": [
    "df_gauges.head()"
   ]
  },
  {
   "cell_type": "markdown",
   "id": "c870e1ab-c78c-4e21-9311-326aae41ee62",
   "metadata": {},
   "source": [
    "## Plot all data by Watershed"
   ]
  },
  {
   "cell_type": "code",
   "execution_count": 57,
   "id": "f4c39d75-d571-4037-9ce7-25a98523b61d",
   "metadata": {},
   "outputs": [],
   "source": [
    "watersheds = df_gauges['huc10'].unique()"
   ]
  },
  {
   "cell_type": "code",
   "execution_count": null,
   "id": "8e30ec28-6b1c-42d0-a26a-f9b578dc0130",
   "metadata": {},
   "outputs": [],
   "source": []
  },
  {
   "cell_type": "code",
   "execution_count": null,
   "id": "0c14a713-92d7-42cc-8889-2054861380e5",
   "metadata": {},
   "outputs": [],
   "source": []
  },
  {
   "cell_type": "code",
   "execution_count": null,
   "id": "adc3f267-c848-4d35-a10f-5478de17376c",
   "metadata": {},
   "outputs": [],
   "source": []
  },
  {
   "cell_type": "code",
   "execution_count": null,
   "id": "a114bdfc-62f5-4a4a-9a50-7b36087e4841",
   "metadata": {},
   "outputs": [],
   "source": []
  },
  {
   "cell_type": "code",
   "execution_count": 1,
   "id": "326ed3ec-e024-484c-bb60-d1f998105a97",
   "metadata": {},
   "outputs": [
    {
     "ename": "NameError",
     "evalue": "name 'watersheds' is not defined",
     "output_type": "error",
     "traceback": [
      "\u001b[0;31m---------------------------------------------------------------------------\u001b[0m",
      "\u001b[0;31mNameError\u001b[0m                                 Traceback (most recent call last)",
      "Cell \u001b[0;32mIn[1], line 1\u001b[0m\n\u001b[0;32m----> 1\u001b[0m \u001b[38;5;28;01mfor\u001b[39;00m watershed \u001b[38;5;129;01min\u001b[39;00m \u001b[43mwatersheds\u001b[49m:\n\u001b[1;32m      3\u001b[0m     fig, ax1 \u001b[38;5;241m=\u001b[39m plt\u001b[38;5;241m.\u001b[39msubplots(figsize\u001b[38;5;241m=\u001b[39m(\u001b[38;5;241m7\u001b[39m,\u001b[38;5;241m7\u001b[39m))\n\u001b[1;32m      5\u001b[0m     ax2 \u001b[38;5;241m=\u001b[39m ax1\u001b[38;5;241m.\u001b[39mtwinx()\n",
      "\u001b[0;31mNameError\u001b[0m: name 'watersheds' is not defined"
     ]
    }
   ],
   "source": [
    "for watershed in watersheds:\n",
    "    \n",
    "    fig, ax1 = plt.subplots(figsize=(7,7))\n",
    "    \n",
    "    ax2 = ax1.twinx()\n",
    "\n",
    "    gauges = df_gauges.loc[df_gauges['huc10'] == watershed]\n",
    "\n",
    "    for index, row in gauges.iterrows():\n",
    "\n",
    "        gauge = row['site_no']\n",
    "\n",
    "        if row['gh_ind'] == 1:\n",
    "\n",
    "            gaugeheight_path = glob.glob(f'../Datasets/stream_gauges/GageHeight/*{gauge}*.csv')[0]\n",
    "    \n",
    "            df_gh = pd.read_csv(gaugeheight_path, parse_dates=['datetime'])\n",
    "\n",
    "            df_gh.drop(index=0, inplace=True)\n",
    "\n",
    "            ax1.plot(df_gh['datetime'], df_gh.iloc[:,4], label=f'{gauge}, flood stage')\n",
    "\n",
    "        if row['sf_ind'] == 1:\n",
    "\n",
    "            streamflow_path = glob.glob(f'../Datasets/stream_gauges/Streamflow/*{gauge}*.csv')[0]\n",
    "\n",
    "            df_sf = pd.read_csv(streamflow_path, parse_dates=['datetime'])\n",
    "\n",
    "            df_sf.drop(index=0, inplace=True)\n",
    "\n",
    "            ax2.plot(df_sf['datetime'], df_sf.iloc[:,4], label=f'{gauge}, discharge')\n",
    "\n",
    "    ax1.set_xlabel('Date')\n",
    "    \n",
    "    ax1.set_ylabel('Flood Stage (ft)')\n",
    "\n",
    "    ax2.set_ylabel('Discharge (m3/s)')\n",
    "\n",
    "    ax1.set_title(f'Stream Gauge Data for HUC10 Waterhed {watershed}')\n",
    "\n",
    "    plt.show()\n",
    "\n",
    "    break\n",
    "\n",
    "    "
   ]
  },
  {
   "cell_type": "code",
   "execution_count": null,
   "id": "18d7d6bf-16bc-4226-a4b1-a8e55eb8361a",
   "metadata": {},
   "outputs": [],
   "source": []
  },
  {
   "cell_type": "code",
   "execution_count": null,
   "id": "b03ee42f-8935-4360-97c5-6c196d6751fb",
   "metadata": {},
   "outputs": [],
   "source": []
  },
  {
   "cell_type": "code",
   "execution_count": null,
   "id": "bd9060ed-56cf-4e86-b292-aebb2e4e9185",
   "metadata": {},
   "outputs": [],
   "source": []
  },
  {
   "cell_type": "code",
   "execution_count": null,
   "id": "6bf74572-c7cd-4412-8882-29f9fdec7c40",
   "metadata": {},
   "outputs": [],
   "source": []
  },
  {
   "cell_type": "code",
   "execution_count": null,
   "id": "87ecf663-83a7-4047-a430-0e0b5c1bad66",
   "metadata": {},
   "outputs": [],
   "source": []
  },
  {
   "cell_type": "markdown",
   "id": "044158ea-6cc7-4572-937e-c43f4949dfb1",
   "metadata": {},
   "source": [
    "# Identify Elevated Stream Flow Events"
   ]
  },
  {
   "cell_type": "code",
   "execution_count": null,
   "id": "991feda2-0762-4d65-be92-ee12432849c0",
   "metadata": {},
   "outputs": [],
   "source": []
  },
  {
   "cell_type": "code",
   "execution_count": null,
   "id": "7e05d9d6-3c54-4205-9c4a-85f381951156",
   "metadata": {},
   "outputs": [],
   "source": []
  },
  {
   "cell_type": "code",
   "execution_count": null,
   "id": "697ab0aa-bc6d-46d5-9a92-c012a8fe73ae",
   "metadata": {},
   "outputs": [],
   "source": []
  },
  {
   "cell_type": "markdown",
   "id": "650ddb5b-5519-4ac2-a651-623c9ab9c73b",
   "metadata": {},
   "source": [
    "# Calculate Elevated Stream Flow Frequency"
   ]
  },
  {
   "cell_type": "code",
   "execution_count": null,
   "id": "f28053ae-9673-4403-a89a-6dee105bfd30",
   "metadata": {},
   "outputs": [],
   "source": []
  },
  {
   "cell_type": "code",
   "execution_count": null,
   "id": "d7d835a8-2bb5-4058-a164-6735bb5d10fa",
   "metadata": {},
   "outputs": [],
   "source": []
  },
  {
   "cell_type": "code",
   "execution_count": null,
   "id": "a198e280-679d-42d6-adfc-465a28a2f823",
   "metadata": {},
   "outputs": [],
   "source": []
  }
 ],
 "metadata": {
  "kernelspec": {
   "display_name": "Python 3 (ipykernel)",
   "language": "python",
   "name": "python3"
  },
  "language_info": {
   "codemirror_mode": {
    "name": "ipython",
    "version": 3
   },
   "file_extension": ".py",
   "mimetype": "text/x-python",
   "name": "python",
   "nbconvert_exporter": "python",
   "pygments_lexer": "ipython3",
   "version": "3.12.2"
  }
 },
 "nbformat": 4,
 "nbformat_minor": 5
}
