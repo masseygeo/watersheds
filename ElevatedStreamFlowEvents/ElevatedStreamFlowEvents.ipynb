{
 "cells": [
  {
   "cell_type": "code",
   "execution_count": 1,
   "id": "391d6813-0158-49ab-a36f-9bc8142bba96",
   "metadata": {},
   "outputs": [],
   "source": [
    "import pandas as pd\n",
    "import geopandas as gpd\n",
    "import numpy as np\n",
    "import scipy"
   ]
  },
  {
   "cell_type": "markdown",
   "id": "cba65849-169e-42db-bd93-d1208f205293",
   "metadata": {},
   "source": [
    "# Gauge Data by HUC10 Watershed"
   ]
  },
  {
   "cell_type": "code",
   "execution_count": null,
   "id": "35450a5a-6d60-4bf9-a8f1-076016ae409b",
   "metadata": {},
   "outputs": [],
   "source": []
  },
  {
   "cell_type": "code",
   "execution_count": null,
   "id": "40d039d7-4c50-42ac-8e68-747442269c0d",
   "metadata": {},
   "outputs": [],
   "source": []
  },
  {
   "cell_type": "code",
   "execution_count": null,
   "id": "16135638-f794-497b-9770-c2e01cf338d0",
   "metadata": {},
   "outputs": [],
   "source": []
  },
  {
   "cell_type": "markdown",
   "id": "044158ea-6cc7-4572-937e-c43f4949dfb1",
   "metadata": {},
   "source": [
    "# Identify Elevated Stream Flow Events"
   ]
  },
  {
   "cell_type": "code",
   "execution_count": null,
   "id": "991feda2-0762-4d65-be92-ee12432849c0",
   "metadata": {},
   "outputs": [],
   "source": []
  },
  {
   "cell_type": "code",
   "execution_count": null,
   "id": "7e05d9d6-3c54-4205-9c4a-85f381951156",
   "metadata": {},
   "outputs": [],
   "source": []
  },
  {
   "cell_type": "code",
   "execution_count": null,
   "id": "697ab0aa-bc6d-46d5-9a92-c012a8fe73ae",
   "metadata": {},
   "outputs": [],
   "source": []
  },
  {
   "cell_type": "markdown",
   "id": "650ddb5b-5519-4ac2-a651-623c9ab9c73b",
   "metadata": {},
   "source": [
    "# Calculate Elevated Stream Flow Frequency"
   ]
  },
  {
   "cell_type": "code",
   "execution_count": null,
   "id": "f28053ae-9673-4403-a89a-6dee105bfd30",
   "metadata": {},
   "outputs": [],
   "source": []
  },
  {
   "cell_type": "code",
   "execution_count": null,
   "id": "d7d835a8-2bb5-4058-a164-6735bb5d10fa",
   "metadata": {},
   "outputs": [],
   "source": []
  },
  {
   "cell_type": "code",
   "execution_count": null,
   "id": "a198e280-679d-42d6-adfc-465a28a2f823",
   "metadata": {},
   "outputs": [],
   "source": []
  }
 ],
 "metadata": {
  "kernelspec": {
   "display_name": "Python 3 (ipykernel)",
   "language": "python",
   "name": "python3"
  },
  "language_info": {
   "codemirror_mode": {
    "name": "ipython",
    "version": 3
   },
   "file_extension": ".py",
   "mimetype": "text/x-python",
   "name": "python",
   "nbconvert_exporter": "python",
   "pygments_lexer": "ipython3",
   "version": "3.12.2"
  }
 },
 "nbformat": 4,
 "nbformat_minor": 5
}
