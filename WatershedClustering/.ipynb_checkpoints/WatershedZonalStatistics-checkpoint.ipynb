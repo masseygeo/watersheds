{
 "cells": [
  {
   "cell_type": "code",
   "execution_count": null,
   "id": "4bb37d65-1890-419a-825f-f6074de27c3d",
   "metadata": {},
   "outputs": [],
   "source": [
    "import glob\n",
    "import os\n",
    "import geopandas as gpd\n",
    "from rasterstats import zonal_stats"
   ]
  },
  {
   "cell_type": "markdown",
   "id": "f55b31d0-6817-42ca-a070-ae2d1e0d8408",
   "metadata": {},
   "source": [
    "# Aggregated Terrain Statistics"
   ]
  },
  {
   "cell_type": "code",
   "execution_count": 26,
   "id": "32b71026-f9af-46ba-92f3-39cb98f573d6",
   "metadata": {},
   "outputs": [],
   "source": [
    "# path to polygon shapefile defining zones to calculate aggregated statistics\n",
    "watersheds_path = '../Datasets/nhd/ky_huc10_26916.shp'\n",
    "\n",
    "# path to dem\n",
    "dem_path = r'../Datasets/dem_10m/dem_clipped_26916.tif'\n",
    "\n",
    "# path to terrain features derived from dem (as glob object)\n",
    "terrain_feature_paths = glob.glob('../Datasets/terrain_features/*.tif')\n",
    "\n",
    "# normalize the glob object paths for consistency\n",
    "terrain_feature_paths = [os.path.normpath(path) for path in terrain_feature_paths]"
   ]
  },
  {
   "cell_type": "code",
   "execution_count": 32,
   "id": "3e2fdcca-b3fc-4897-9d8a-9bcf17357f7a",
   "metadata": {},
   "outputs": [],
   "source": [
    "# load the polygon shapefile as a geodataframe\n",
    "watershed_boundaries = gpd.read_file(watersheds_path)\n",
    "\n",
    "# set huc10 code as index, drop existing index\n",
    "watershed_boundaries.set_index('huc10', drop=True, inplace=True)\n",
    "\n",
    "# define statistics to calculate (built in to rasterstats)\n",
    "statistics = ['count', 'sum', 'majority', 'range', 'mean', 'std', 'min', 'percentile_10', 'percentile_25', 'median', 'percentile_75', 'percentile_90', 'max']\n",
    "\n",
    "# Calculate zonal statistics\n",
    "stats = zonal_stats(watershed_boundaries, dem_path, stats = statistics, all_touched = True)\n",
    "\n",
    "# Adding each statistic as a new column in the GeoDataFrame\n",
    "for key in statistics:\n",
    "    watershed_boundaries[key] = [stat[key] for stat in stats]\n",
    "\n",
    "# save to .csv file\n",
    "watershed_boundaries.drop(columns=['loaddate', 'name', 'geometry').to_csv('huc10_statistics_dem.csv')"
   ]
  },
  {
   "cell_type": "code",
   "execution_count": null,
   "id": "9ca366f7-1ede-4da2-a2a1-976e21c52e68",
   "metadata": {},
   "outputs": [],
   "source": [
    "def zonal_statistics_to_csv(polygon_path, raster_path, statistics, output_name, index_col=None, drop_cols=None):\n",
    "    \n",
    "    gdf = gpd.read_file(polygon_path)\n",
    "\n",
    "    if index not None:\n",
    "        gdf.set_index(index_col, drop=True, inplace=True)\n",
    "\n",
    "    stats = zonal_stats(gdf, raster_path, stats=statistics, all_touched=True)\n",
    "\n",
    "    for key in statistics:\n",
    "        gdf[key] = [stat[key] for stat in stats]\n",
    "\n",
    "    if drop not None:\n",
    "        gdf.drop(columns=drop_cols, drop=True, inplace=True)\n",
    "\n",
    "    gdf.to_csv(output_name)"
   ]
  },
  {
   "cell_type": "code",
   "execution_count": null,
   "id": "51b982a1-4f8a-40a9-b2f8-25eaae14f624",
   "metadata": {},
   "outputs": [],
   "source": []
  },
  {
   "cell_type": "code",
   "execution_count": null,
   "id": "373d0fc8-c337-4203-88dc-a2f54838cf5e",
   "metadata": {},
   "outputs": [],
   "source": []
  },
  {
   "cell_type": "code",
   "execution_count": null,
   "id": "fad24d49-f2a6-42a0-b813-d517dc17fcf3",
   "metadata": {},
   "outputs": [],
   "source": []
  }
 ],
 "metadata": {
  "kernelspec": {
   "display_name": "Python 3 (ipykernel)",
   "language": "python",
   "name": "python3"
  },
  "language_info": {
   "codemirror_mode": {
    "name": "ipython",
    "version": 3
   },
   "file_extension": ".py",
   "mimetype": "text/x-python",
   "name": "python",
   "nbconvert_exporter": "python",
   "pygments_lexer": "ipython3",
   "version": "3.12.2"
  }
 },
 "nbformat": 4,
 "nbformat_minor": 5
}
