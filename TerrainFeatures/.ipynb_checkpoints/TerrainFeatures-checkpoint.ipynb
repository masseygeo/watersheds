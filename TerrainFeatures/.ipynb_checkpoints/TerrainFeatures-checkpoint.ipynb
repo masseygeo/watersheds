{
 "cells": [
  {
   "cell_type": "code",
   "execution_count": 1,
   "id": "fa5d317b-45e0-46e9-a1c0-198840c63f34",
   "metadata": {},
   "outputs": [],
   "source": [
    "import whitebox\n",
    "import os\n",
    "import shutil"
   ]
  },
  {
   "cell_type": "code",
   "execution_count": 2,
   "id": "361574b6-258a-4913-bacb-3c725100acef",
   "metadata": {},
   "outputs": [
    {
     "data": {
      "text/plain": [
       "\"WhiteboxTools v2.3.0 (c) Dr. John Lindsay 2017-2023\\n\\nWhiteboxTools is an advanced geospatial data analysis platform developed at\\nthe University of Guelph's Geomorphometry and Hydrogeomatics Research \\nGroup (GHRG). See www.whiteboxgeo.com for more details.\\n\""
      ]
     },
     "execution_count": 2,
     "metadata": {},
     "output_type": "execute_result"
    }
   ],
   "source": [
    "##### initialize whitebox\n",
    "\n",
    "# import whitebox tools class as wbt object\n",
    "wbt = whitebox.WhiteboxTools()\n",
    "\n",
    "# toggle on/off geoprocessing tool outputs\n",
    "wbt.verbose = False\n",
    "\n",
    "# set working directory for input/output files to current working directory\n",
    "wbt.set_working_dir(os.getcwd())\n",
    "\n",
    "# print whitebox version to verify correctly loading\n",
    "wbt.version()\n",
    "\n",
    "# NOTE: original terrain features calculated in ArcGIS Pro, but can be done using Whitebox"
   ]
  },
  {
   "cell_type": "markdown",
   "id": "ac63de65-20ca-49f5-867e-729cbea789a0",
   "metadata": {},
   "source": [
    "# DEM Pre-Processing"
   ]
  },
  {
   "cell_type": "code",
   "execution_count": 3,
   "id": "e7011f3c-7961-4ff6-b86a-02d8a08a6969",
   "metadata": {},
   "outputs": [
    {
     "name": "stdout",
     "output_type": "stream",
     "text": [
      "Copy DEM already exists\n"
     ]
    }
   ],
   "source": [
    "###### copy original dem to current working directory - whitebox doesn't like different directories\n",
    "\n",
    "# path to original dem\n",
    "original_dem_path = r'../Data/dem_10m/dem_10m_clipped_26916.tif'\n",
    "\n",
    "# path to copy original dem (current workind directory plus same basename)\n",
    "copy_dem_path = os.path.join(r'terrain_features', os.path.basename(original_dem_path))\n",
    "\n",
    "# check that original dem does exist\n",
    "if os.path.exists(original_dem_path):\n",
    "\n",
    "    # check that copy dem does NOT already exist\n",
    "    if not os.path.exists(copy_dem_path):\n",
    "\n",
    "        # copy original dem to new location\n",
    "        shutil.copy(original_dem_path, copy_dem_path)\n",
    "\n",
    "    else:\n",
    "        print('Copy DEM already exists')\n",
    "\n",
    "else:\n",
    "    print('Original DEM does not exist')"
   ]
  },
  {
   "cell_type": "markdown",
   "id": "8a8f996e-274a-40d1-bb02-8b26a98aa30f",
   "metadata": {},
   "source": [
    "## Feature Preserving Smoothing"
   ]
  },
  {
   "cell_type": "code",
   "execution_count": 4,
   "id": "ce78579c-a2e5-4f62-bf18-fdf08153a162",
   "metadata": {},
   "outputs": [
    {
     "data": {
      "text/plain": [
       "0"
      ]
     },
     "execution_count": 4,
     "metadata": {},
     "output_type": "execute_result"
    }
   ],
   "source": [
    "##### https://www.whiteboxgeo.com/manual/wbt_book/available_tools/geomorphometric_analysis.html#FeaturePreservingSmoothing\n",
    "\n",
    "# path to copied mosaic and clipped dem in UTM projection - whitebox 2.3.0 does NOT like relative paths for input!!!\n",
    "input_dem = os.path.abspath(r'terrain_features/dem_10m_clipped_26916.tif')\n",
    "\n",
    "# path for smoothed output dem - whitebox 2.3.0 does NOT like relative paths for output!!!\n",
    "output_fps = os.path.abspath(r'terrain_features/dem_fps.tif')\n",
    "\n",
    "# smooth dem for further processing (default params: filter=11, norm_diff=15, num_iter=3, max_diff=0.5)\n",
    "wbt.feature_preserving_smoothing(dem=input_dem, output=output_fps, filter=5, norm_diff=5, num_iter=3)"
   ]
  },
  {
   "cell_type": "markdown",
   "id": "95f6fd9b-bb62-46ad-b82b-1503b1e5a6a9",
   "metadata": {},
   "source": [
    "## Hydrological Integrity"
   ]
  },
  {
   "cell_type": "code",
   "execution_count": null,
   "id": "84ecefeb-35b9-4d42-a1be-e04feeb2e8c4",
   "metadata": {},
   "outputs": [],
   "source": [
    "# burn streams (get nhdplus hr)"
   ]
  },
  {
   "cell_type": "code",
   "execution_count": null,
   "id": "df512362-f18c-4744-9c4e-ee21012282be",
   "metadata": {},
   "outputs": [],
   "source": [
    "# fill single cell depressions?"
   ]
  },
  {
   "cell_type": "code",
   "execution_count": null,
   "id": "dafbf217-d3ff-43fa-aa39-6ef97ea39d7a",
   "metadata": {},
   "outputs": [],
   "source": [
    "# breach depressions"
   ]
  },
  {
   "cell_type": "code",
   "execution_count": null,
   "id": "0ea7575a-7bbd-4865-98fa-3f5e1502127b",
   "metadata": {},
   "outputs": [],
   "source": [
    "# fill depressions???"
   ]
  },
  {
   "cell_type": "markdown",
   "id": "0d91dda8-b8fc-4ea3-acfa-e6a992e45592",
   "metadata": {},
   "source": [
    "# Slope"
   ]
  },
  {
   "cell_type": "code",
   "execution_count": null,
   "id": "8fb230bc-3ee2-4bc9-a97d-0335ef1a9c52",
   "metadata": {},
   "outputs": [],
   "source": [
    "# calculate slope (degrees)"
   ]
  },
  {
   "cell_type": "code",
   "execution_count": null,
   "id": "b9bdabeb-35af-4dc3-8bb5-72199d6f43d6",
   "metadata": {},
   "outputs": [],
   "source": [
    "# add small slope so nothing is completely flat?"
   ]
  },
  {
   "cell_type": "markdown",
   "id": "75080465-a490-4804-94bb-bd3724cb35e5",
   "metadata": {},
   "source": [
    "# Aspect"
   ]
  },
  {
   "cell_type": "code",
   "execution_count": null,
   "id": "80872088-46e5-48ca-861b-cebd3fdcb5e0",
   "metadata": {},
   "outputs": [],
   "source": []
  },
  {
   "cell_type": "code",
   "execution_count": null,
   "id": "7657a825-51ab-47aa-a84b-bb25d16f93a9",
   "metadata": {},
   "outputs": [],
   "source": []
  },
  {
   "cell_type": "markdown",
   "id": "ca6bc1d1-347c-4d30-bd90-27339676c198",
   "metadata": {},
   "source": [
    "# Flow Accumulation"
   ]
  },
  {
   "cell_type": "code",
   "execution_count": null,
   "id": "0f77bdca-b894-4bbe-92ee-cd23c6311e31",
   "metadata": {},
   "outputs": [],
   "source": []
  },
  {
   "cell_type": "code",
   "execution_count": null,
   "id": "56ad4050-4101-4ea7-aa57-7fefad76d6e0",
   "metadata": {},
   "outputs": [],
   "source": []
  },
  {
   "cell_type": "code",
   "execution_count": null,
   "id": "611489a4-21af-4bdb-8a70-d3a5fe935f17",
   "metadata": {},
   "outputs": [],
   "source": []
  }
 ],
 "metadata": {
  "kernelspec": {
   "display_name": "Python 3 (ipykernel)",
   "language": "python",
   "name": "python3"
  },
  "language_info": {
   "codemirror_mode": {
    "name": "ipython",
    "version": 3
   },
   "file_extension": ".py",
   "mimetype": "text/x-python",
   "name": "python",
   "nbconvert_exporter": "python",
   "pygments_lexer": "ipython3",
   "version": "3.12.2"
  }
 },
 "nbformat": 4,
 "nbformat_minor": 5
}
