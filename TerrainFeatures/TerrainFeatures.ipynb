{
 "cells": [
  {
   "cell_type": "code",
   "execution_count": null,
   "id": "fa5d317b-45e0-46e9-a1c0-198840c63f34",
   "metadata": {},
   "outputs": [],
   "source": [
    "import geopandas as gpd\n",
    "import whitebox"
   ]
  },
  {
   "cell_type": "code",
   "execution_count": null,
   "id": "764c987a-0a6f-436a-adb1-b8a60127f1ca",
   "metadata": {},
   "outputs": [],
   "source": [
    "# Original terrain features calculated in ArcGIS Pro, but can be done using Whitebox in Python..."
   ]
  },
  {
   "cell_type": "markdown",
   "id": "ac63de65-20ca-49f5-867e-729cbea789a0",
   "metadata": {},
   "source": [
    "# Calculate Terrain Features"
   ]
  },
  {
   "cell_type": "markdown",
   "id": "75080465-a490-4804-94bb-bd3724cb35e5",
   "metadata": {},
   "source": [
    "## Aspect"
   ]
  },
  {
   "cell_type": "code",
   "execution_count": null,
   "id": "80872088-46e5-48ca-861b-cebd3fdcb5e0",
   "metadata": {},
   "outputs": [],
   "source": []
  },
  {
   "cell_type": "markdown",
   "id": "0d91dda8-b8fc-4ea3-acfa-e6a992e45592",
   "metadata": {},
   "source": [
    "# Slope"
   ]
  },
  {
   "cell_type": "code",
   "execution_count": null,
   "id": "8fb230bc-3ee2-4bc9-a97d-0335ef1a9c52",
   "metadata": {},
   "outputs": [],
   "source": []
  },
  {
   "cell_type": "code",
   "execution_count": null,
   "id": "0d0cd4b6-f333-449a-9125-6912137882e6",
   "metadata": {},
   "outputs": [],
   "source": []
  }
 ],
 "metadata": {
  "kernelspec": {
   "display_name": "Python 3 (ipykernel)",
   "language": "python",
   "name": "python3"
  },
  "language_info": {
   "codemirror_mode": {
    "name": "ipython",
    "version": 3
   },
   "file_extension": ".py",
   "mimetype": "text/x-python",
   "name": "python",
   "nbconvert_exporter": "python",
   "pygments_lexer": "ipython3",
   "version": "3.12.2"
  }
 },
 "nbformat": 4,
 "nbformat_minor": 5
}
