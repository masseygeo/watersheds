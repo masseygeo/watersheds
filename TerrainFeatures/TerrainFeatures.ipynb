{
 "cells": [
  {
   "cell_type": "code",
   "execution_count": null,
   "id": "fa5d317b-45e0-46e9-a1c0-198840c63f34",
   "metadata": {},
   "outputs": [],
   "source": [
    "import whitebox\n",
    "import os\n",
    "import shutil\n",
    "import fiona \n",
    "import geopandas as gpd\n",
    "import matplotlib.pyplot as plt"
   ]
  },
  {
   "cell_type": "code",
   "execution_count": null,
   "id": "361574b6-258a-4913-bacb-3c725100acef",
   "metadata": {},
   "outputs": [],
   "source": [
    "##### initialize whitebox\n",
    "\n",
    "# import whitebox tools class as wbt object\n",
    "wbt = whitebox.WhiteboxTools()\n",
    "\n",
    "# toggle on/off geoprocessing tool outputs\n",
    "# wbt.verbose = False\n",
    "\n",
    "# set working directory for input/output files to current working directory\n",
    "wbt.set_working_dir(os.getcwd())\n",
    "\n",
    "# print whitebox version to verify correctly loading\n",
    "wbt.version()\n",
    "\n",
    "# NOTE: original terrain features calculated in ArcGIS Pro, but can be done using Whitebox"
   ]
  },
  {
   "cell_type": "markdown",
   "id": "ac63de65-20ca-49f5-867e-729cbea789a0",
   "metadata": {},
   "source": [
    "# DEM Pre-Processing"
   ]
  },
  {
   "cell_type": "code",
   "execution_count": null,
   "id": "e7011f3c-7961-4ff6-b86a-02d8a08a6969",
   "metadata": {},
   "outputs": [],
   "source": [
    "###### copy original dem to current working directory - whitebox doesn't like different directories\n",
    "\n",
    "# path to original dem\n",
    "original_dem_path = r'../Data/dem_10m/dem_10m_clipped_26916.tif'\n",
    "\n",
    "# path to copy original dem (current workind directory plus same basename)\n",
    "copy_dem_path = os.path.join(r'terrain_features', os.path.basename(original_dem_path))\n",
    "\n",
    "# check that original dem does exist\n",
    "if os.path.exists(original_dem_path):\n",
    "\n",
    "    # check that copy dem does NOT already exist\n",
    "    if not os.path.exists(copy_dem_path):\n",
    "\n",
    "        # copy original dem to new location\n",
    "        shutil.copy(original_dem_path, copy_dem_path)\n",
    "\n",
    "    else:\n",
    "        print('Copy DEM already exists...')\n",
    "\n",
    "else:\n",
    "    print('Original DEM does not exist in specified path!')"
   ]
  },
  {
   "cell_type": "markdown",
   "id": "8a8f996e-274a-40d1-bb02-8b26a98aa30f",
   "metadata": {},
   "source": [
    "## Feature Preserving Smoothing"
   ]
  },
  {
   "cell_type": "code",
   "execution_count": null,
   "id": "ce78579c-a2e5-4f62-bf18-fdf08153a162",
   "metadata": {},
   "outputs": [],
   "source": [
    "##### https://www.whiteboxgeo.com/manual/wbt_book/available_tools/geomorphometric_analysis.html#FeaturePreservingSmoothing\n",
    "\n",
    "# path to copied mosaic and clipped dem in UTM projection - whitebox 2.3.0 does NOT like relative paths for input!!!\n",
    "input_dem = os.path.abspath(r'terrain_features/dem_10m_clipped_26916.tif')\n",
    "\n",
    "# path for smoothed output dem - whitebox 2.3.0 does NOT like relative paths for output!!!\n",
    "output_dem = os.path.abspath(r'terrain_features/dem_fps.tif')\n",
    "\n",
    "\n",
    "# check that smooth dem does not already exist\n",
    "if not os.path.exists(output_dem):\n",
    "\n",
    "    # smooth dem for further processing (default params: filter=11, norm_diff=15, num_iter=3, max_diff=0.5)\n",
    "    wbt.feature_preserving_smoothing(dem=input_dem, output=output_dem, filter=5, norm_diff=5, num_iter=3)\n",
    "\n",
    "else:\n",
    "    print('DEM has already been smoothed and exists...')"
   ]
  },
  {
   "cell_type": "markdown",
   "id": "95f6fd9b-bb62-46ad-b82b-1503b1e5a6a9",
   "metadata": {},
   "source": [
    "## Hydrological Integrity"
   ]
  },
  {
   "cell_type": "markdown",
   "id": "ea955673-c797-483f-ad1f-da96cb177ac1",
   "metadata": {},
   "source": [
    "### Get Streams"
   ]
  },
  {
   "cell_type": "code",
   "execution_count": null,
   "id": "45cd9a81-125f-43ad-9f47-efe385faed33",
   "metadata": {},
   "outputs": [],
   "source": [
    "# path to geodatabase\n",
    "gdb_path = r'../Data/nhdplus_hr/KY_NHDPlus_H_National_Release_1_26916.gdb'\n",
    "\n",
    "# list all layers to find correct feature class name\n",
    "layers = fiona.listlayers(gdb_path)\n",
    "for layer in layers:\n",
    "    print(layer)"
   ]
  },
  {
   "cell_type": "code",
   "execution_count": null,
   "id": "a43af29a-55d9-484a-a91a-95a9152d28c7",
   "metadata": {},
   "outputs": [],
   "source": [
    "# read flowlines into geodataframe; specify feature class name from list above\n",
    "flowline_features = gpd.read_file(gdb_path, layer='KY_NetworkNHDFlowline')\n",
    "\n",
    "# display geodataframe head\n",
    "flowline_features.head()"
   ]
  },
  {
   "cell_type": "code",
   "execution_count": null,
   "id": "8d47fcfe-fdf2-4f36-a9ad-d5ccfca30a3b",
   "metadata": {},
   "outputs": [],
   "source": [
    "# check column names, dtypes, and non-nulls\n",
    "flowline_features.info()"
   ]
  },
  {
   "cell_type": "code",
   "execution_count": null,
   "id": "715b0d7b-779f-44c0-a4f8-9f32c0873d55",
   "metadata": {},
   "outputs": [],
   "source": [
    "# plot stream network, colored by stream order\n",
    "\n",
    "fig, ax = plt.subplots(figsize=(12,7))\n",
    "\n",
    "flowline_features.plot(column='streamorde', \n",
    "                       categorical=True, \n",
    "                       linewidth=0.4, \n",
    "                       ax=ax, \n",
    "                       label='Stream Order', \n",
    "                       legend=True, \n",
    "                       legend_kwds={'title':'Stream Order', 'frameon':False,\n",
    "                                    'bbox_to_anchor':(0,1), 'loc':'upper left'})\n",
    "\n",
    "ax.set_axis_off()\n",
    "\n",
    "plt.show()"
   ]
  },
  {
   "cell_type": "code",
   "execution_count": null,
   "id": "5b0982c3-cf60-4fad-bdbf-32810f6b1077",
   "metadata": {},
   "outputs": [],
   "source": [
    "# plot stream networks with different minimum stream orders\n",
    "# visually assess quality for stream burning (detail vs. performance)\n",
    "\n",
    "for minimum_stream_order in range(2,5):\n",
    "    \n",
    "    fig, ax = plt.subplots(figsize=(12,7))\n",
    "    \n",
    "    flowline_features[flowline_features['streamorde'] >= minimum_stream_order].plot(linewidth=0.5, ax=ax)\n",
    "    \n",
    "    ax.set_axis_off()\n",
    "    ax.set_title(f\"Streams \\u2265 {minimum_stream_order} stream order\", y=0.9, loc='left')\n",
    "    \n",
    "    plt.show()"
   ]
  },
  {
   "cell_type": "code",
   "execution_count": null,
   "id": "f55516cc-06b3-4d21-bdcd-f7af51830452",
   "metadata": {},
   "outputs": [],
   "source": [
    "# save shapefile of stream network for stream burning using minimum threshold stream order\n",
    "\n",
    "minimum_stream_order_threshold = 3\n",
    "\n",
    "flowline_shapefile_output = f\"terrain_features/nhdplus_hr_order{minimum_stream_order_threshold}_26916.shp\"\n",
    "\n",
    "if not os.path.exists(flowline_shapefile_output):\n",
    "    mask = flowline_features['streamorde'] >= 3\n",
    "    flowline_features.loc[mask, ['gnis_id', 'streamorde', 'geometry']].to_file(flowline_shapefile_output)\n",
    "\n",
    "else:\n",
    "    print('Shapefile already exists...')"
   ]
  },
  {
   "cell_type": "markdown",
   "id": "4116ddd4-56af-4f29-91e4-a4891ba78aa2",
   "metadata": {},
   "source": [
    "### Burn Streams in DEM"
   ]
  },
  {
   "cell_type": "code",
   "execution_count": null,
   "id": "84ecefeb-35b9-4d42-a1be-e04feeb2e8c4",
   "metadata": {},
   "outputs": [],
   "source": [
    "# burn streams in smoothed dem using stream network defined above...\n",
    "\n",
    "input_dem = os.path.abspath(r'terrain_features/dem_fps.tif')\n",
    "input_flowlines = os.path.abspath(flowline_shapefile_output)\n",
    "\n",
    "output_dem = os.path.abspath(r'terrain_features/dem_fps_burned.tif')\n",
    "\n",
    "\n",
    "# check that smooth dem does not already exist\n",
    "if not os.path.exists(output_dem):\n",
    "\n",
    "    # burn streams in smoothed DEM\n",
    "    wbt.fill_burn(dem=input_dem, streams=input_flowlines, output=output_dem)\n",
    "\n",
    "else:\n",
    "    print('DEM has already been burned and exists...')\n",
    "    \n",
    "\n",
    "# NOTE: topological_breach_burn_tool not available in free version of whitebox, but likely better\n",
    "# out_flowline = os.path.abspath(r'terrain_features/stream_prunednetwork.tif')\n",
    "# out_flowdirection = os.path.abspath(r'terrain_features/stream_flowdirection.tif')\n",
    "# out_flowaccumulation = os.path.abspath(r'terrain_features/stream_flowaccumulation.tif')\n",
    "\n",
    "# wbt.topological_breach_burn(\n",
    "#     streams=flowline_path, \n",
    "#     dem=dem_path, \n",
    "#     out_streams=out_flowline, \n",
    "#     out_dem=out_dem, \n",
    "#     out_dir=out_flowdirection, \n",
    "#     out_accum=out_flowaccumulation, \n",
    "#     snap=1.0, \n",
    "#     callback=default_callback\n",
    "# )"
   ]
  },
  {
   "cell_type": "code",
   "execution_count": null,
   "id": "df512362-f18c-4744-9c4e-ee21012282be",
   "metadata": {},
   "outputs": [],
   "source": [
    "# fill single cell depressions/pits (final pre-processing step)...\n",
    "\n",
    "input_dem = os.path.abspath(r'terrain_features/dem_fps_burned.tif')\n",
    "output_dem = os.path.abspath(r'terrain_features/dem_fps_burned_singlecellfill.tif')\n",
    "\n",
    "\n",
    "# check that smooth dem has not already been processed\n",
    "if not os.path.exists(output_dem):\n",
    "\n",
    "    # fill single-cell pits/depressions in smoothed & burned dem\n",
    "    wbt.fill_single_cell_pits(dem=input_dem, output=output_dem)\n",
    "\n",
    "else:\n",
    "    print('DEM has already been filled and exists...')"
   ]
  },
  {
   "cell_type": "markdown",
   "id": "0d91dda8-b8fc-4ea3-acfa-e6a992e45592",
   "metadata": {},
   "source": [
    "# Terrain Features"
   ]
  },
  {
   "cell_type": "code",
   "execution_count": null,
   "id": "d1ee2a17-83f7-4a5f-97cd-5fea32ec9de8",
   "metadata": {},
   "outputs": [],
   "source": [
    "# path to pre-processed DEM (smoothed, stream burn, single-cell fill)\n",
    "dem_input_path = os.path.abspath(r'terrain_features/dem_fps_burned_singlecellfill.tif')"
   ]
  },
  {
   "cell_type": "markdown",
   "id": "52bfe430-72f2-4841-8bdf-ffd1f1aa3929",
   "metadata": {},
   "source": [
    "## Slope"
   ]
  },
  {
   "cell_type": "code",
   "execution_count": null,
   "id": "8fb230bc-3ee2-4bc9-a97d-0335ef1a9c52",
   "metadata": {},
   "outputs": [],
   "source": [
    "# calculate slope (degrees)\n",
    "\n",
    "output_path = os.path.abspath(r'terrain_features/slope_deg.tif')\n",
    "\n",
    "wbt.slope(\n",
    "    dem=dem_input_path, \n",
    "    output=output_path, \n",
    "    zfactor=None, \n",
    "    units='degrees', \n",
    ")"
   ]
  },
  {
   "cell_type": "code",
   "execution_count": null,
   "id": "b9bdabeb-35af-4dc3-8bb5-72199d6f43d6",
   "metadata": {},
   "outputs": [],
   "source": [
    "# add small slope so nothing is completely flat?"
   ]
  },
  {
   "cell_type": "markdown",
   "id": "75080465-a490-4804-94bb-bd3724cb35e5",
   "metadata": {},
   "source": [
    "## Aspect"
   ]
  },
  {
   "cell_type": "code",
   "execution_count": null,
   "id": "80872088-46e5-48ca-861b-cebd3fdcb5e0",
   "metadata": {},
   "outputs": [],
   "source": [
    "# calculate aspect (0-360 degrees); shouldn't be any flat/undefined areas because added small slope\n",
    "\n",
    "output_path = os.path.abspath(r'terrain_features/aspect.tif')\n",
    "\n",
    "wbt.aspect(\n",
    "    dem, \n",
    "    output, \n",
    "    zfactor=None, \n",
    "    callback=default_callback\n",
    ")"
   ]
  },
  {
   "cell_type": "markdown",
   "id": "fa0ef17b-a0b7-4d2a-b5a5-121717ad8a3f",
   "metadata": {},
   "source": [
    "## Profile Curvature"
   ]
  },
  {
   "cell_type": "code",
   "execution_count": null,
   "id": "fc8e9407-939e-43f6-934a-b192e868e56c",
   "metadata": {},
   "outputs": [],
   "source": []
  },
  {
   "cell_type": "markdown",
   "id": "d520160e-64b1-4e0f-8ef8-5d465c952fb7",
   "metadata": {},
   "source": [
    "## Tangential Curvature"
   ]
  },
  {
   "cell_type": "code",
   "execution_count": null,
   "id": "51d7bf57-225f-496e-a628-b09391cab27c",
   "metadata": {},
   "outputs": [],
   "source": []
  },
  {
   "cell_type": "markdown",
   "id": "d8a027a2-2b24-4165-ad18-d99efc5e5db7",
   "metadata": {},
   "source": [
    "## Roughness Index"
   ]
  },
  {
   "cell_type": "code",
   "execution_count": null,
   "id": "7eddc1f1-11ed-43b6-9971-b3cae0ba80cb",
   "metadata": {},
   "outputs": [],
   "source": [
    "# multiple windows"
   ]
  },
  {
   "cell_type": "markdown",
   "id": "8ccc9b1c-36b4-48f8-be5c-6486d9c65478",
   "metadata": {},
   "source": [
    "## Standard Devation of Elevation"
   ]
  },
  {
   "cell_type": "code",
   "execution_count": null,
   "id": "47820c09-017f-4b28-a996-a5c9130dacee",
   "metadata": {},
   "outputs": [],
   "source": [
    "# multiple windows"
   ]
  },
  {
   "cell_type": "markdown",
   "id": "9b750d7f-1fc3-485b-b4a8-9b4fe901925c",
   "metadata": {},
   "source": [
    "## Topographic Postion Index"
   ]
  },
  {
   "cell_type": "code",
   "execution_count": null,
   "id": "5b327f92-b6c9-4d43-bb29-a16cacdceed8",
   "metadata": {},
   "outputs": [],
   "source": [
    "# multiple windows"
   ]
  },
  {
   "cell_type": "markdown",
   "id": "0a6c3de6-2119-4f2d-a190-ee232b4d6be0",
   "metadata": {},
   "source": [
    "## Topographic Wetness Index"
   ]
  },
  {
   "cell_type": "code",
   "execution_count": null,
   "id": "f537ea80-f823-4334-b860-d859207eda22",
   "metadata": {},
   "outputs": [],
   "source": []
  },
  {
   "cell_type": "markdown",
   "id": "3ac24cd8-d9ed-486d-b659-cd6bcf91a908",
   "metadata": {},
   "source": [
    "## Stream Power Index"
   ]
  },
  {
   "cell_type": "code",
   "execution_count": null,
   "id": "59d6eade-6480-406e-9f7a-7a964b5734d0",
   "metadata": {},
   "outputs": [],
   "source": []
  },
  {
   "cell_type": "markdown",
   "id": "1a5777c5-bc92-4e50-8612-641781928193",
   "metadata": {},
   "source": [
    "## Drainage Density (Watershed measurement)"
   ]
  },
  {
   "cell_type": "code",
   "execution_count": null,
   "id": "b9b87384-b2b7-4020-b7ac-34c3956d11ce",
   "metadata": {},
   "outputs": [],
   "source": []
  }
 ],
 "metadata": {
  "kernelspec": {
   "display_name": "Python 3 (ipykernel)",
   "language": "python",
   "name": "python3"
  },
  "language_info": {
   "codemirror_mode": {
    "name": "ipython",
    "version": 3
   },
   "file_extension": ".py",
   "mimetype": "text/x-python",
   "name": "python",
   "nbconvert_exporter": "python",
   "pygments_lexer": "ipython3",
   "version": "3.12.2"
  }
 },
 "nbformat": 4,
 "nbformat_minor": 5
}
