{
 "cells": [
  {
   "cell_type": "code",
   "execution_count": 1,
   "id": "80162b18-8604-4f53-a03c-bd382152ddef",
   "metadata": {},
   "outputs": [],
   "source": [
    "import requests\n",
    "import zipfile\n",
    "import os\n",
    "from Data_Utils import is_url_valid"
   ]
  },
  {
   "cell_type": "code",
   "execution_count": 2,
   "id": "26e071e9-6b93-4889-8724-fe9f81e3d040",
   "metadata": {},
   "outputs": [],
   "source": [
    "# url to NHDPlus HR geodatabase .zip\n",
    "nhdplushr_url = r'https://prd-tnm.s3.amazonaws.com/StagedProducts/Hydrography/NHDPlusHR/National/GDB/NHDPlus_H_National_Release_1_GDB.zip'\n",
    "\n",
    "# url to NHDPlus HR metadata .xml\n",
    "nhdplushr_metadata_url = r'https://thor-f5.er.usgs.gov/ngtoc/metadata/waf/hydrography/nhdplus_hr/national/NHDPlus_H_National_Release_1_GDB.xml'\n",
    "\n",
    "# directory to store NHDPlus HR data\n",
    "download_dir = r'nhdplus_hr'\n",
    "\n",
    "# path for .zip download\n",
    "download_path_gdb = r'nhdplus_hr/nhdlus_hr_gdb.zip'"
   ]
  },
  {
   "cell_type": "code",
   "execution_count": null,
   "id": "83a43d04-8172-4611-a0b4-6bdfb6a8c981",
   "metadata": {},
   "outputs": [],
   "source": [
    "# check if directory exists and if not create one\n",
    "if not os.path.isdir(download_dir):\n",
    "    os.makedirs(download_dir)\n",
    "\n",
    "# download zip file...\n",
    "# call custom function to check if url is valid\n",
    "if is_url_valid(nhdplushr_url):\n",
    "\n",
    "    # read the information from the url using streaming response\n",
    "    with requests.get(nhdplushr_url, stream=True) as response:\n",
    "    \n",
    "        # open download file for writing\n",
    "        with open(download_path_gdb, 'wb') as nhdplushr_zip:\n",
    "\n",
    "            # iterate through chunks of content\n",
    "            for chunk in response.iter_content(chunk_size=32*1024)   # using 32KB chunks\n",
    "\n",
    "                # write chunk to file\n",
    "                nhdplushr_zip.write(chunk.content)\n",
    "    \n",
    "        # unpack the zipfile\n",
    "        with zipfile.ZipFile(download_path_gdb, 'r') as unzip:\n",
    "            unzip.extractall(download_dir)\n",
    "\n",
    "            \n",
    "        # delete the zip file\n",
    "        # os.remove(download_path_gdb)\n",
    "    \n",
    "        # # rename the folder of shapefiles\n",
    "        # os.rename(r'nhd/Shape', r'nhd/nhd_shapefiles')"
   ]
  },
  {
   "cell_type": "code",
   "execution_count": null,
   "id": "9dbe8e29-7ad7-4484-bf9c-3f2baf574dc9",
   "metadata": {},
   "outputs": [],
   "source": []
  }
 ],
 "metadata": {
  "kernelspec": {
   "display_name": "Python 3 (ipykernel)",
   "language": "python",
   "name": "python3"
  },
  "language_info": {
   "codemirror_mode": {
    "name": "ipython",
    "version": 3
   },
   "file_extension": ".py",
   "mimetype": "text/x-python",
   "name": "python",
   "nbconvert_exporter": "python",
   "pygments_lexer": "ipython3",
   "version": "3.12.2"
  }
 },
 "nbformat": 4,
 "nbformat_minor": 5
}
