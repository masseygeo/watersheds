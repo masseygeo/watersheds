{
 "cells": [
  {
   "cell_type": "code",
   "execution_count": null,
   "id": "723c00c7-ee9e-48d0-a30b-6e4381abfde3",
   "metadata": {},
   "outputs": [],
   "source": [
    "##### DATASET DOWNLOAD LINKS #####\n",
    "# nhd dataset (watershed boundaries) stored in Github/Watershed_Clustering/Datasets/nhd/...\n",
    "# https://prd-tnm.s3.amazonaws.com/StagedProducts/Hydrography/NHD/State/Shape/NHD_H_Kentucky_State_Shape.zip\n",
    "\n",
    "# ky state boundary stored in Github/Watershed_Clustering/Datasets/ky_boundaries/...\n",
    "# https://prd-tnm.s3.amazonaws.com/StagedProducts/GovtUnit/Shape/GOVTUNIT_Kentucky_State_Shape.zip\n",
    "\n",
    "# 1/3-arc-second usgs dem tiles stored in Github/Watershed_Clustering/Datasets/dem_10m/...\n",
    "# https://prd-tnm.s3.amazonaws.com/StagedProducts/Elevation/13/TIFF/historical/n40w087/USGS_13_n40w087_20210617.tif\n",
    "# https://prd-tnm.s3.amazonaws.com/StagedProducts/Elevation/13/TIFF/historical/n40w087/USGS_13_n39w084_20220311.tif\n",
    "# https://prd-tnm.s3.amazonaws.com/StagedProducts/Elevation/13/TIFF/historical/n40w087/USGS_13_n40w089_20240104.tif\n",
    "# https://prd-tnm.s3.amazonaws.com/StagedProducts/Elevation/13/TIFF/historical/n40w087/USGS_13_n40w082_20230911.tif\n",
    "# https://prd-tnm.s3.amazonaws.com/StagedProducts/Elevation/13/TIFF/historical/n40w087/USGS_13_n40w086_20210617.tif\n",
    "# https://prd-tnm.s3.amazonaws.com/StagedProducts/Elevation/13/TIFF/historical/n40w087/USGS_13_n40w083_20230911.tif\n",
    "# https://prd-tnm.s3.amazonaws.com/StagedProducts/Elevation/13/TIFF/historical/n40w087/USGS_13_n38w090_20231226.tif\n",
    "# https://prd-tnm.s3.amazonaws.com/StagedProducts/Elevation/13/TIFF/historical/n40w087/USGS_13_n40w088_20221205.tif\n",
    "# https://prd-tnm.s3.amazonaws.com/StagedProducts/Elevation/13/TIFF/historical/n40w087/USGS_13_n38w088_20230407.tif\n",
    "# https://prd-tnm.s3.amazonaws.com/StagedProducts/Elevation/13/TIFF/historical/n40w087/USGS_13_n37w083_20220512.tif\n",
    "# https://prd-tnm.s3.amazonaws.com/StagedProducts/Elevation/13/TIFF/historical/n40w087/USGS_13_n37w086_20190716.tif\n",
    "# https://prd-tnm.s3.amazonaws.com/StagedProducts/Elevation/13/TIFF/historical/n40w087/USGS_13_n37w088_20230407.tif\n",
    "# https://prd-tnm.s3.amazonaws.com/StagedProducts/Elevation/13/TIFF/historical/n40w087/USGS_13_n38w085_20220311.tif\n",
    "# https://prd-tnm.s3.amazonaws.com/StagedProducts/Elevation/13/TIFF/historical/n40w087/USGS_13_n37w090_20231226.tif\n",
    "# https://prd-tnm.s3.amazonaws.com/StagedProducts/Elevation/13/TIFF/historical/n40w087/USGS_13_n37w082_20220512.tif\n",
    "# https://prd-tnm.s3.amazonaws.com/StagedProducts/Elevation/13/TIFF/historical/n40w087/USGS_13_n39w085_20230407.tif\n",
    "# https://prd-tnm.s3.amazonaws.com/StagedProducts/Elevation/13/TIFF/historical/n40w087/USGS_13_n38w084_20230123.tif\n",
    "# https://prd-tnm.s3.amazonaws.com/StagedProducts/Elevation/13/TIFF/historical/n40w087/USGS_13_n39w088_20221205.tif\n",
    "# https://prd-tnm.s3.amazonaws.com/StagedProducts/Elevation/13/TIFF/historical/n40w087/USGS_13_n39w087_20230407.tif\n",
    "# https://prd-tnm.s3.amazonaws.com/StagedProducts/Elevation/13/TIFF/historical/n40w087/USGS_13_n40w084_20200302.tif\n",
    "# https://prd-tnm.s3.amazonaws.com/StagedProducts/Elevation/13/TIFF/historical/n40w087/USGS_13_n40w085_20230407.tif\n",
    "# https://prd-tnm.s3.amazonaws.com/StagedProducts/Elevation/13/TIFF/historical/n40w087/USGS_13_n37w085_20171101.tif\n",
    "# https://prd-tnm.s3.amazonaws.com/StagedProducts/Elevation/13/TIFF/historical/n40w087/USGS_13_n39w086_20230407.tif\n",
    "# https://prd-tnm.s3.amazonaws.com/StagedProducts/Elevation/13/TIFF/historical/n40w087/USGS_13_n39w089_20221205.tif\n",
    "# https://prd-tnm.s3.amazonaws.com/StagedProducts/Elevation/13/TIFF/historical/n40w087/USGS_13_n37w084_20181127.tif\n",
    "# https://prd-tnm.s3.amazonaws.com/StagedProducts/Elevation/13/TIFF/historical/n40w087/USGS_13_n39w082_20230911.tif\n",
    "# https://prd-tnm.s3.amazonaws.com/StagedProducts/Elevation/13/TIFF/historical/n40w087/USGS_13_n38w087_20230407.tif\n",
    "# https://prd-tnm.s3.amazonaws.com/StagedProducts/Elevation/13/TIFF/historical/n40w087/USGS_13_n38w083_20230816.tif\n",
    "# https://prd-tnm.s3.amazonaws.com/StagedProducts/Elevation/13/TIFF/historical/n40w087/USGS_13_n37w089_20230123.tif\n",
    "# https://prd-tnm.s3.amazonaws.com/StagedProducts/Elevation/13/TIFF/historical/n40w087/USGS_13_n39w090_20221205.tif\n",
    "# https://prd-tnm.s3.amazonaws.com/StagedProducts/Elevation/13/TIFF/historical/n40w087/USGS_13_n39w083_20230911.tif\n",
    "# https://prd-tnm.s3.amazonaws.com/StagedProducts/Elevation/13/TIFF/historical/n40w087/USGS_13_n40w090_20230303.tif\n",
    "# https://prd-tnm.s3.amazonaws.com/StagedProducts/Elevation/13/TIFF/historical/n40w087/USGS_13_n38w089_20220318.tif\n",
    "# https://prd-tnm.s3.amazonaws.com/StagedProducts/Elevation/13/TIFF/historical/n40w087/USGS_13_n38w082_20230816.tif\n",
    "# https://prd-tnm.s3.amazonaws.com/StagedProducts/Elevation/13/TIFF/historical/n40w087/USGS_13_n38w086_20230407.tif\n",
    "# https://prd-tnm.s3.amazonaws.com/StagedProducts/Elevation/13/TIFF/historical/n40w087/USGS_13_n37w087_20230407.tif"
   ]
  },
  {
   "cell_type": "code",
   "execution_count": null,
   "id": "2e1e4293-67cd-4e3a-b030-f5c2d19ead35",
   "metadata": {},
   "outputs": [],
   "source": []
  }
 ],
 "metadata": {
  "kernelspec": {
   "display_name": "Python 3 (ipykernel)",
   "language": "python",
   "name": "python3"
  },
  "language_info": {
   "codemirror_mode": {
    "name": "ipython",
    "version": 3
   },
   "file_extension": ".py",
   "mimetype": "text/x-python",
   "name": "python",
   "nbconvert_exporter": "python",
   "pygments_lexer": "ipython3",
   "version": "3.12.2"
  }
 },
 "nbformat": 4,
 "nbformat_minor": 5
}
