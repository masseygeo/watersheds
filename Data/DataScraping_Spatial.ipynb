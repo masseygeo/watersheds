{
 "cells": [
  {
   "cell_type": "code",
   "execution_count": 10,
   "id": "5cc2ae69-4e34-46f0-ad3e-ae0de4f0d750",
   "metadata": {},
   "outputs": [],
   "source": [
    "import requests\n",
    "import zipfile\n",
    "import os\n",
    "from Data_Utils import is_url_valid"
   ]
  },
  {
   "cell_type": "markdown",
   "id": "801bbbc7-248c-401e-90fb-68b87e5e0960",
   "metadata": {},
   "source": [
    "# National Hydrography Dataset"
   ]
  },
  {
   "cell_type": "code",
   "execution_count": 12,
   "id": "b71ca534-45bb-49a2-b0de-3af838f03d50",
   "metadata": {},
   "outputs": [],
   "source": [
    "# nhd dataset (watershed boundaries) stored in Github/Watershed_Clustering/Datasets/nhd/...\n",
    "nhd_url = r'https://prd-tnm.s3.amazonaws.com/StagedProducts/Hydrography/NHD/State/Shape/NHD_H_Kentucky_State_Shape.zip'\n",
    "\n",
    "# directory to download\n",
    "nhd_dir = r'nhd'\n",
    "\n",
    "# path for downloaded zip\n",
    "zip_path = r'nhd/nhd.zip'"
   ]
  },
  {
   "cell_type": "code",
   "execution_count": 13,
   "id": "93af250d-db07-4711-9bbc-d44773a234df",
   "metadata": {},
   "outputs": [],
   "source": [
    "# check if nhd directory exists and if not create one\n",
    "if not os.path.isdir(nhd_dir):\n",
    "    os.makedirs(nhd_dir)\n",
    "\n",
    "# download zip file...\n",
    "# call custom function to check if url is valid\n",
    "if is_url_valid(nhd_url):\n",
    "\n",
    "    # read the information from the url\n",
    "    response = requests.get(nhd_url)\n",
    "\n",
    "    # write the response to the zip file path\n",
    "    with open(zip_path, 'wb') as nhd_zipfile:\n",
    "        nhd_zipfile.write(response.content)\n",
    "\n",
    "    # unpack the zipfile\n",
    "    with zipfile.ZipFile(zip_path, 'r') as unzip:\n",
    "        unzip.extractall(nhd_dir)\n",
    "\n",
    "    # delete the zip file\n",
    "    os.remove(zip_path)\n",
    "\n",
    "    # rename the folder of shapefiles\n",
    "    os.rename(r'nhd/Shape', r'nhd/nhd_shapefiles')"
   ]
  },
  {
   "cell_type": "markdown",
   "id": "2c2106e8-13e8-41b6-b203-cfaff0c1290b",
   "metadata": {},
   "source": [
    "# Kentucky State Boundary"
   ]
  },
  {
   "cell_type": "code",
   "execution_count": 16,
   "id": "893ee100-1e1b-49fd-9d8d-795f035391ca",
   "metadata": {},
   "outputs": [],
   "source": [
    "# ky state boundary stored in Github/Watershed_Clustering/Datasets/ky_boundaries/...\n",
    "boundary_url = r'https://prd-tnm.s3.amazonaws.com/StagedProducts/GovtUnit/Shape/GOVTUNIT_Kentucky_State_Shape.zip'\n",
    "\n",
    "# directory to download\n",
    "boundary_dir = r'ky_boundaries'\n",
    "\n",
    "# path for downloaded zip\n",
    "zip_path = r'ky_boundaries/ky_boundaries.zip'"
   ]
  },
  {
   "cell_type": "code",
   "execution_count": 17,
   "id": "5c3eb7ea-d49d-4e4c-ba30-f622933f0a8d",
   "metadata": {},
   "outputs": [],
   "source": [
    "# check if nhd directory exists and if not create one\n",
    "if not os.path.isdir(boundary_dir):\n",
    "    os.makedir(boundary_dir)\n",
    "\n",
    "# download zip file...\n",
    "# call custom function to check if url is valid\n",
    "if is_url_valid(boundary_url):\n",
    "\n",
    "    # read the information from the url\n",
    "    response = requests.get(boundary_url)\n",
    "\n",
    "    # write the response to the zip file path\n",
    "    with open(zip_path, 'wb') as boundary_zipfile:\n",
    "        boundary_zipfile.write(response.content)\n",
    "\n",
    "    # unpack the zipfile\n",
    "    with zipfile.ZipFile(zip_path, 'r') as unzip:\n",
    "        unzip.extractall(boundary_dir)\n",
    "\n",
    "    # delete the zip file\n",
    "    os.remove(zip_path)\n",
    "\n",
    "    # rename the folder of shapefiles\n",
    "    os.rename(r'ky_boundaries/Shape', r'ky_boundaries/boundaries_shapefiles')"
   ]
  },
  {
   "cell_type": "markdown",
   "id": "6293e278-ec77-4ea7-97db-cbee518b71b1",
   "metadata": {},
   "source": [
    "# USGS 10 meter Digital Elevation Model"
   ]
  },
  {
   "cell_type": "code",
   "execution_count": null,
   "id": "cc76ff8e-a29b-4b7b-b88f-b12fe9271c24",
   "metadata": {},
   "outputs": [],
   "source": [
    "# 1/3-arc-second usgs dem tiles stored in Github/Watershed_Clustering/Datasets/dem_10m/...\n",
    "dem_tiles_url = ['https://prd-tnm.s3.amazonaws.com/StagedProducts/Elevation/13/TIFF/historical/n40w087/USGS_13_n40w087_20210617.tif', \n",
    "                 'https://prd-tnm.s3.amazonaws.com/StagedProducts/Elevation/13/TIFF/historical/n40w087/USGS_13_n39w084_20220311.tif',\n",
    "                 'https://prd-tnm.s3.amazonaws.com/StagedProducts/Elevation/13/TIFF/historical/n40w087/USGS_13_n40w089_20240104.tif',\n",
    "                 'https://prd-tnm.s3.amazonaws.com/StagedProducts/Elevation/13/TIFF/historical/n40w087/USGS_13_n40w082_20230911.tif',\n",
    "                 'https://prd-tnm.s3.amazonaws.com/StagedProducts/Elevation/13/TIFF/historical/n40w087/USGS_13_n40w086_20210617.tif',\n",
    "                 'https://prd-tnm.s3.amazonaws.com/StagedProducts/Elevation/13/TIFF/historical/n40w087/USGS_13_n40w083_20230911.tif',\n",
    "                 'https://prd-tnm.s3.amazonaws.com/StagedProducts/Elevation/13/TIFF/historical/n40w087/USGS_13_n38w090_20231226.tif',\n",
    "                 'https://prd-tnm.s3.amazonaws.com/StagedProducts/Elevation/13/TIFF/historical/n40w087/USGS_13_n40w088_20221205.tif',\n",
    "                 'https://prd-tnm.s3.amazonaws.com/StagedProducts/Elevation/13/TIFF/historical/n40w087/USGS_13_n38w088_20230407.tif',\n",
    "                 'https://prd-tnm.s3.amazonaws.com/StagedProducts/Elevation/13/TIFF/historical/n40w087/USGS_13_n37w083_20220512.tif',\n",
    "                 'https://prd-tnm.s3.amazonaws.com/StagedProducts/Elevation/13/TIFF/historical/n40w087/USGS_13_n37w086_20190716.tif',\n",
    "                 'https://prd-tnm.s3.amazonaws.com/StagedProducts/Elevation/13/TIFF/historical/n40w087/USGS_13_n37w088_20230407.tif',\n",
    "                 'https://prd-tnm.s3.amazonaws.com/StagedProducts/Elevation/13/TIFF/historical/n40w087/USGS_13_n38w085_20220311.tif',\n",
    "                 'https://prd-tnm.s3.amazonaws.com/StagedProducts/Elevation/13/TIFF/historical/n40w087/USGS_13_n37w090_20231226.tif',\n",
    "                 'https://prd-tnm.s3.amazonaws.com/StagedProducts/Elevation/13/TIFF/historical/n40w087/USGS_13_n37w082_20220512.tif',\n",
    "                 'https://prd-tnm.s3.amazonaws.com/StagedProducts/Elevation/13/TIFF/historical/n40w087/USGS_13_n39w085_20230407.tif',\n",
    "                 'https://prd-tnm.s3.amazonaws.com/StagedProducts/Elevation/13/TIFF/historical/n40w087/USGS_13_n38w084_20230123.tif',\n",
    "                 'https://prd-tnm.s3.amazonaws.com/StagedProducts/Elevation/13/TIFF/historical/n40w087/USGS_13_n39w088_20221205.tif',\n",
    "                 'https://prd-tnm.s3.amazonaws.com/StagedProducts/Elevation/13/TIFF/historical/n40w087/USGS_13_n39w087_20230407.tif',\n",
    "                 'https://prd-tnm.s3.amazonaws.com/StagedProducts/Elevation/13/TIFF/historical/n40w087/USGS_13_n40w084_20200302.tif',\n",
    "                 'https://prd-tnm.s3.amazonaws.com/StagedProducts/Elevation/13/TIFF/historical/n40w087/USGS_13_n40w085_20230407.tif',\n",
    "                 'https://prd-tnm.s3.amazonaws.com/StagedProducts/Elevation/13/TIFF/historical/n40w087/USGS_13_n37w085_20171101.tif',\n",
    "                 'https://prd-tnm.s3.amazonaws.com/StagedProducts/Elevation/13/TIFF/historical/n40w087/USGS_13_n39w086_20230407.tif',\n",
    "                 'https://prd-tnm.s3.amazonaws.com/StagedProducts/Elevation/13/TIFF/historical/n40w087/USGS_13_n39w089_20221205.tif',\n",
    "                 'https://prd-tnm.s3.amazonaws.com/StagedProducts/Elevation/13/TIFF/historical/n40w087/USGS_13_n37w084_20181127.tif',\n",
    "                 'https://prd-tnm.s3.amazonaws.com/StagedProducts/Elevation/13/TIFF/historical/n40w087/USGS_13_n39w082_20230911.tif',\n",
    "                 'https://prd-tnm.s3.amazonaws.com/StagedProducts/Elevation/13/TIFF/historical/n40w087/USGS_13_n38w087_20230407.tif',\n",
    "                 'https://prd-tnm.s3.amazonaws.com/StagedProducts/Elevation/13/TIFF/historical/n40w087/USGS_13_n38w083_20230816.tif',\n",
    "                 'https://prd-tnm.s3.amazonaws.com/StagedProducts/Elevation/13/TIFF/historical/n40w087/USGS_13_n37w089_20230123.tif',\n",
    "                 'https://prd-tnm.s3.amazonaws.com/StagedProducts/Elevation/13/TIFF/historical/n40w087/USGS_13_n39w090_20221205.tif',\n",
    "                 'https://prd-tnm.s3.amazonaws.com/StagedProducts/Elevation/13/TIFF/historical/n40w087/USGS_13_n39w083_20230911.tif',\n",
    "                 'https://prd-tnm.s3.amazonaws.com/StagedProducts/Elevation/13/TIFF/historical/n40w087/USGS_13_n40w090_20230303.tif',\n",
    "                 'https://prd-tnm.s3.amazonaws.com/StagedProducts/Elevation/13/TIFF/historical/n40w087/USGS_13_n38w089_20220318.tif',\n",
    "                 'https://prd-tnm.s3.amazonaws.com/StagedProducts/Elevation/13/TIFF/historical/n40w087/USGS_13_n38w082_20230816.tif',\n",
    "                 'https://prd-tnm.s3.amazonaws.com/StagedProducts/Elevation/13/TIFF/historical/n40w087/USGS_13_n38w086_20230407.tif',\n",
    "                 'https://prd-tnm.s3.amazonaws.com/StagedProducts/Elevation/13/TIFF/historical/n40w087/USGS_13_n37w087_20230407.tif']\n",
    "\n",
    "# directory to download tiles\n",
    "dem_dir = r'dem_10m'"
   ]
  },
  {
   "cell_type": "code",
   "execution_count": null,
   "id": "ab40d894-162b-43ab-baf7-6c77ee0dea1b",
   "metadata": {},
   "outputs": [],
   "source": [
    "# check if nhd directory exists and if not create one\n",
    "if not os.path.isdir(dem_dir):\n",
    "    os.makedir(dem_dir)\n",
    "\n",
    "# iterate through list of urls and download...\n",
    "for tile_url in dem_tiles_url:\n",
    "\n",
    "    # split url at forward slash and get last split for filename, e.g., USGS_13_*.tif\n",
    "    filename = tile_url.split('/')[-1]\n",
    "\n",
    "    # relative path to save dem tile\n",
    "    save_path = os.path.join(dem_dir, filename)\n",
    "\n",
    "    # call custom function to check if url is valid\n",
    "    if is_url_valid(tile_url):\n",
    "\n",
    "        # read the information from the url\n",
    "        response = requests.get(tile_url)\n",
    "\n",
    "        # write the response to the file path\n",
    "        with open(save_path, 'wb') as tile:\n",
    "            tile.write(response.content)"
   ]
  },
  {
   "cell_type": "code",
   "execution_count": null,
   "id": "f94836a0-c6e8-41a5-970a-8aaa152c2f56",
   "metadata": {},
   "outputs": [],
   "source": []
  }
 ],
 "metadata": {
  "kernelspec": {
   "display_name": "Python 3 (ipykernel)",
   "language": "python",
   "name": "python3"
  },
  "language_info": {
   "codemirror_mode": {
    "name": "ipython",
    "version": 3
   },
   "file_extension": ".py",
   "mimetype": "text/x-python",
   "name": "python",
   "nbconvert_exporter": "python",
   "pygments_lexer": "ipython3",
   "version": "3.12.2"
  }
 },
 "nbformat": 4,
 "nbformat_minor": 5
}
